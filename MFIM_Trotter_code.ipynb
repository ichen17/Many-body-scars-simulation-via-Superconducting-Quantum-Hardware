{
  "cells": [
    {
      "cell_type": "markdown",
      "metadata": {
        "id": "STcu4AwGnb_J"
      },
      "source": [
        "# Install package"
      ]
    },
    {
      "cell_type": "code",
      "execution_count": null,
      "metadata": {
        "colab": {
          "base_uri": "https://localhost:8080/",
          "height": 1000
        },
        "id": "BsMAH2PrtIkp",
        "outputId": "8bec7e57-7692-478f-c238-00ec8189ca3b"
      },
      "outputs": [
        {
          "output_type": "stream",
          "name": "stdout",
          "text": [
            "Collecting mitiq\n",
            "  Downloading mitiq-0.12.0-py3-none-any.whl (125 kB)\n",
            "\u001b[K     |████████████████████████████████| 125 kB 8.4 MB/s \n",
            "\u001b[?25hCollecting cirq~=0.10.0\n",
            "  Downloading cirq-0.10.0-py3-none-any.whl (1.8 MB)\n",
            "\u001b[K     |████████████████████████████████| 1.8 MB 16.6 MB/s \n",
            "\u001b[?25hCollecting scipy~=1.7.3\n",
            "  Downloading scipy-1.7.3-cp37-cp37m-manylinux_2_12_x86_64.manylinux2010_x86_64.whl (38.1 MB)\n",
            "\u001b[K     |████████████████████████████████| 38.1 MB 6.3 MB/s \n",
            "\u001b[?25hCollecting numpy~=1.20.1\n",
            "  Downloading numpy-1.20.3-cp37-cp37m-manylinux_2_12_x86_64.manylinux2010_x86_64.whl (15.3 MB)\n",
            "\u001b[K     |████████████████████████████████| 15.3 MB 11.2 MB/s \n",
            "\u001b[?25hRequirement already satisfied: pandas in /usr/local/lib/python3.7/dist-packages (from cirq~=0.10.0->mitiq) (1.1.5)\n",
            "Requirement already satisfied: networkx~=2.4 in /usr/local/lib/python3.7/dist-packages (from cirq~=0.10.0->mitiq) (2.6.3)\n",
            "Requirement already satisfied: google-api-core[grpc]<2.0.0dev,>=1.14.0 in /usr/local/lib/python3.7/dist-packages (from cirq~=0.10.0->mitiq) (1.26.3)\n",
            "Requirement already satisfied: matplotlib~=3.0 in /usr/local/lib/python3.7/dist-packages (from cirq~=0.10.0->mitiq) (3.2.2)\n",
            "Requirement already satisfied: requests~=2.18 in /usr/local/lib/python3.7/dist-packages (from cirq~=0.10.0->mitiq) (2.23.0)\n",
            "Collecting protobuf~=3.13.0\n",
            "  Downloading protobuf-3.13.0-cp37-cp37m-manylinux1_x86_64.whl (1.3 MB)\n",
            "\u001b[K     |████████████████████████████████| 1.3 MB 47.7 MB/s \n",
            "\u001b[?25hRequirement already satisfied: typing-extensions in /usr/local/lib/python3.7/dist-packages (from cirq~=0.10.0->mitiq) (3.10.0.2)\n",
            "Requirement already satisfied: sympy in /usr/local/lib/python3.7/dist-packages (from cirq~=0.10.0->mitiq) (1.7.1)\n",
            "Requirement already satisfied: tqdm in /usr/local/lib/python3.7/dist-packages (from cirq~=0.10.0->mitiq) (4.62.3)\n",
            "Requirement already satisfied: sortedcontainers~=2.0 in /usr/local/lib/python3.7/dist-packages (from cirq~=0.10.0->mitiq) (2.4.0)\n",
            "Requirement already satisfied: setuptools>=40.3.0 in /usr/local/lib/python3.7/dist-packages (from google-api-core[grpc]<2.0.0dev,>=1.14.0->cirq~=0.10.0->mitiq) (57.4.0)\n",
            "Requirement already satisfied: google-auth<2.0dev,>=1.21.1 in /usr/local/lib/python3.7/dist-packages (from google-api-core[grpc]<2.0.0dev,>=1.14.0->cirq~=0.10.0->mitiq) (1.35.0)\n",
            "Requirement already satisfied: pytz in /usr/local/lib/python3.7/dist-packages (from google-api-core[grpc]<2.0.0dev,>=1.14.0->cirq~=0.10.0->mitiq) (2018.9)\n",
            "Requirement already satisfied: googleapis-common-protos<2.0dev,>=1.6.0 in /usr/local/lib/python3.7/dist-packages (from google-api-core[grpc]<2.0.0dev,>=1.14.0->cirq~=0.10.0->mitiq) (1.54.0)\n",
            "Requirement already satisfied: packaging>=14.3 in /usr/local/lib/python3.7/dist-packages (from google-api-core[grpc]<2.0.0dev,>=1.14.0->cirq~=0.10.0->mitiq) (21.3)\n",
            "Requirement already satisfied: six>=1.13.0 in /usr/local/lib/python3.7/dist-packages (from google-api-core[grpc]<2.0.0dev,>=1.14.0->cirq~=0.10.0->mitiq) (1.15.0)\n",
            "Requirement already satisfied: grpcio<2.0dev,>=1.29.0 in /usr/local/lib/python3.7/dist-packages (from google-api-core[grpc]<2.0.0dev,>=1.14.0->cirq~=0.10.0->mitiq) (1.43.0)\n",
            "Requirement already satisfied: pyasn1-modules>=0.2.1 in /usr/local/lib/python3.7/dist-packages (from google-auth<2.0dev,>=1.21.1->google-api-core[grpc]<2.0.0dev,>=1.14.0->cirq~=0.10.0->mitiq) (0.2.8)\n",
            "Requirement already satisfied: cachetools<5.0,>=2.0.0 in /usr/local/lib/python3.7/dist-packages (from google-auth<2.0dev,>=1.21.1->google-api-core[grpc]<2.0.0dev,>=1.14.0->cirq~=0.10.0->mitiq) (4.2.4)\n",
            "Requirement already satisfied: rsa<5,>=3.1.4 in /usr/local/lib/python3.7/dist-packages (from google-auth<2.0dev,>=1.21.1->google-api-core[grpc]<2.0.0dev,>=1.14.0->cirq~=0.10.0->mitiq) (4.8)\n",
            "Requirement already satisfied: python-dateutil>=2.1 in /usr/local/lib/python3.7/dist-packages (from matplotlib~=3.0->cirq~=0.10.0->mitiq) (2.8.2)\n",
            "Requirement already satisfied: pyparsing!=2.0.4,!=2.1.2,!=2.1.6,>=2.0.1 in /usr/local/lib/python3.7/dist-packages (from matplotlib~=3.0->cirq~=0.10.0->mitiq) (3.0.7)\n",
            "Requirement already satisfied: cycler>=0.10 in /usr/local/lib/python3.7/dist-packages (from matplotlib~=3.0->cirq~=0.10.0->mitiq) (0.11.0)\n",
            "Requirement already satisfied: kiwisolver>=1.0.1 in /usr/local/lib/python3.7/dist-packages (from matplotlib~=3.0->cirq~=0.10.0->mitiq) (1.3.2)\n",
            "Requirement already satisfied: pyasn1<0.5.0,>=0.4.6 in /usr/local/lib/python3.7/dist-packages (from pyasn1-modules>=0.2.1->google-auth<2.0dev,>=1.21.1->google-api-core[grpc]<2.0.0dev,>=1.14.0->cirq~=0.10.0->mitiq) (0.4.8)\n",
            "Requirement already satisfied: chardet<4,>=3.0.2 in /usr/local/lib/python3.7/dist-packages (from requests~=2.18->cirq~=0.10.0->mitiq) (3.0.4)\n",
            "Requirement already satisfied: urllib3!=1.25.0,!=1.25.1,<1.26,>=1.21.1 in /usr/local/lib/python3.7/dist-packages (from requests~=2.18->cirq~=0.10.0->mitiq) (1.24.3)\n",
            "Requirement already satisfied: certifi>=2017.4.17 in /usr/local/lib/python3.7/dist-packages (from requests~=2.18->cirq~=0.10.0->mitiq) (2021.10.8)\n",
            "Requirement already satisfied: idna<3,>=2.5 in /usr/local/lib/python3.7/dist-packages (from requests~=2.18->cirq~=0.10.0->mitiq) (2.10)\n",
            "Requirement already satisfied: mpmath>=0.19 in /usr/local/lib/python3.7/dist-packages (from sympy->cirq~=0.10.0->mitiq) (1.2.1)\n",
            "Installing collected packages: protobuf, numpy, scipy, cirq, mitiq\n",
            "  Attempting uninstall: protobuf\n",
            "    Found existing installation: protobuf 3.17.3\n",
            "    Uninstalling protobuf-3.17.3:\n",
            "      Successfully uninstalled protobuf-3.17.3\n",
            "  Attempting uninstall: numpy\n",
            "    Found existing installation: numpy 1.19.5\n",
            "    Uninstalling numpy-1.19.5:\n",
            "      Successfully uninstalled numpy-1.19.5\n",
            "  Attempting uninstall: scipy\n",
            "    Found existing installation: scipy 1.4.1\n",
            "    Uninstalling scipy-1.4.1:\n",
            "      Successfully uninstalled scipy-1.4.1\n",
            "\u001b[31mERROR: pip's dependency resolver does not currently take into account all the packages that are installed. This behaviour is the source of the following dependency conflicts.\n",
            "yellowbrick 1.3.post1 requires numpy<1.20,>=1.16.0, but you have numpy 1.20.3 which is incompatible.\n",
            "datascience 0.10.6 requires folium==0.2.1, but you have folium 0.8.3 which is incompatible.\n",
            "albumentations 0.1.12 requires imgaug<0.2.7,>=0.2.5, but you have imgaug 0.2.9 which is incompatible.\u001b[0m\n",
            "Successfully installed cirq-0.10.0 mitiq-0.12.0 numpy-1.20.3 protobuf-3.13.0 scipy-1.7.3\n"
          ]
        },
        {
          "output_type": "display_data",
          "data": {
            "application/vnd.colab-display-data+json": {
              "pip_warning": {
                "packages": [
                  "google",
                  "numpy"
                ]
              }
            }
          },
          "metadata": {}
        },
        {
          "output_type": "stream",
          "name": "stdout",
          "text": [
            "Collecting qiskit\n",
            "  Downloading qiskit-0.34.1.tar.gz (13 kB)\n",
            "Collecting qiskit-terra==0.19.1\n",
            "  Downloading qiskit_terra-0.19.1-cp37-cp37m-manylinux2010_x86_64.whl (6.4 MB)\n",
            "\u001b[K     |████████████████████████████████| 6.4 MB 12.1 MB/s \n",
            "\u001b[?25hCollecting qiskit-aer==0.10.2\n",
            "  Downloading qiskit_aer-0.10.2-cp37-cp37m-manylinux_2_12_x86_64.manylinux2010_x86_64.whl (18.0 MB)\n",
            "\u001b[K     |████████████████████████████████| 18.0 MB 669 kB/s \n",
            "\u001b[?25hCollecting qiskit-ibmq-provider==0.18.3\n",
            "  Downloading qiskit_ibmq_provider-0.18.3-py3-none-any.whl (238 kB)\n",
            "\u001b[K     |████████████████████████████████| 238 kB 63.7 MB/s \n",
            "\u001b[?25hCollecting qiskit-ignis==0.7.0\n",
            "  Downloading qiskit_ignis-0.7.0-py3-none-any.whl (200 kB)\n",
            "\u001b[K     |████████████████████████████████| 200 kB 69.3 MB/s \n",
            "\u001b[?25hRequirement already satisfied: scipy>=1.0 in /usr/local/lib/python3.7/dist-packages (from qiskit-aer==0.10.2->qiskit) (1.7.3)\n",
            "Requirement already satisfied: numpy>=1.16.3 in /usr/local/lib/python3.7/dist-packages (from qiskit-aer==0.10.2->qiskit) (1.20.3)\n",
            "Collecting websocket-client>=1.0.1\n",
            "  Downloading websocket_client-1.2.3-py3-none-any.whl (53 kB)\n",
            "\u001b[K     |████████████████████████████████| 53 kB 2.5 MB/s \n",
            "\u001b[?25hRequirement already satisfied: python-dateutil>=2.8.0 in /usr/local/lib/python3.7/dist-packages (from qiskit-ibmq-provider==0.18.3->qiskit) (2.8.2)\n",
            "Requirement already satisfied: requests>=2.19 in /usr/local/lib/python3.7/dist-packages (from qiskit-ibmq-provider==0.18.3->qiskit) (2.23.0)\n",
            "Requirement already satisfied: urllib3>=1.21.1 in /usr/local/lib/python3.7/dist-packages (from qiskit-ibmq-provider==0.18.3->qiskit) (1.24.3)\n",
            "Collecting requests-ntlm>=1.1.0\n",
            "  Downloading requests_ntlm-1.1.0-py2.py3-none-any.whl (5.7 kB)\n",
            "Requirement already satisfied: setuptools>=40.1.0 in /usr/local/lib/python3.7/dist-packages (from qiskit-ignis==0.7.0->qiskit) (57.4.0)\n",
            "Collecting retworkx>=0.8.0\n",
            "  Downloading retworkx-0.11.0-cp37-cp37m-manylinux_2_5_x86_64.manylinux1_x86_64.manylinux_2_12_x86_64.manylinux2010_x86_64.whl (1.6 MB)\n",
            "\u001b[K     |████████████████████████████████| 1.6 MB 62.3 MB/s \n",
            "\u001b[?25hCollecting stevedore>=3.0.0\n",
            "  Downloading stevedore-3.5.0-py3-none-any.whl (49 kB)\n",
            "\u001b[K     |████████████████████████████████| 49 kB 6.0 MB/s \n",
            "\u001b[?25hCollecting tweedledum<2.0,>=1.1\n",
            "  Downloading tweedledum-1.1.1-cp37-cp37m-manylinux_2_12_x86_64.manylinux2010_x86_64.whl (943 kB)\n",
            "\u001b[K     |████████████████████████████████| 943 kB 51.1 MB/s \n",
            "\u001b[?25hCollecting python-constraint>=1.4\n",
            "  Downloading python-constraint-1.4.0.tar.bz2 (18 kB)\n",
            "Collecting symengine>=0.8\n",
            "  Downloading symengine-0.8.1-cp37-cp37m-manylinux2010_x86_64.whl (38.2 MB)\n",
            "\u001b[K     |████████████████████████████████| 38.2 MB 1.5 MB/s \n",
            "\u001b[?25hRequirement already satisfied: psutil>=5 in /usr/local/lib/python3.7/dist-packages (from qiskit-terra==0.19.1->qiskit) (5.4.8)\n",
            "Collecting ply>=3.10\n",
            "  Downloading ply-3.11-py2.py3-none-any.whl (49 kB)\n",
            "\u001b[K     |████████████████████████████████| 49 kB 7.2 MB/s \n",
            "\u001b[?25hRequirement already satisfied: dill>=0.3 in /usr/local/lib/python3.7/dist-packages (from qiskit-terra==0.19.1->qiskit) (0.3.4)\n",
            "Requirement already satisfied: sympy>=1.3 in /usr/local/lib/python3.7/dist-packages (from qiskit-terra==0.19.1->qiskit) (1.7.1)\n",
            "Requirement already satisfied: six>=1.5 in /usr/local/lib/python3.7/dist-packages (from python-dateutil>=2.8.0->qiskit-ibmq-provider==0.18.3->qiskit) (1.15.0)\n",
            "Requirement already satisfied: chardet<4,>=3.0.2 in /usr/local/lib/python3.7/dist-packages (from requests>=2.19->qiskit-ibmq-provider==0.18.3->qiskit) (3.0.4)\n",
            "Requirement already satisfied: certifi>=2017.4.17 in /usr/local/lib/python3.7/dist-packages (from requests>=2.19->qiskit-ibmq-provider==0.18.3->qiskit) (2021.10.8)\n",
            "Requirement already satisfied: idna<3,>=2.5 in /usr/local/lib/python3.7/dist-packages (from requests>=2.19->qiskit-ibmq-provider==0.18.3->qiskit) (2.10)\n",
            "Collecting ntlm-auth>=1.0.2\n",
            "  Downloading ntlm_auth-1.5.0-py2.py3-none-any.whl (29 kB)\n",
            "Collecting cryptography>=1.3\n",
            "  Downloading cryptography-36.0.1-cp36-abi3-manylinux_2_24_x86_64.whl (3.6 MB)\n",
            "\u001b[K     |████████████████████████████████| 3.6 MB 45.1 MB/s \n",
            "\u001b[?25hRequirement already satisfied: cffi>=1.12 in /usr/local/lib/python3.7/dist-packages (from cryptography>=1.3->requests-ntlm>=1.1.0->qiskit-ibmq-provider==0.18.3->qiskit) (1.15.0)\n",
            "Requirement already satisfied: pycparser in /usr/local/lib/python3.7/dist-packages (from cffi>=1.12->cryptography>=1.3->requests-ntlm>=1.1.0->qiskit-ibmq-provider==0.18.3->qiskit) (2.21)\n",
            "Collecting pbr!=2.1.0,>=2.0.0\n",
            "  Downloading pbr-5.8.0-py2.py3-none-any.whl (112 kB)\n",
            "\u001b[K     |████████████████████████████████| 112 kB 79.6 MB/s \n",
            "\u001b[?25hRequirement already satisfied: importlib-metadata>=1.7.0 in /usr/local/lib/python3.7/dist-packages (from stevedore>=3.0.0->qiskit-terra==0.19.1->qiskit) (4.10.1)\n",
            "Requirement already satisfied: zipp>=0.5 in /usr/local/lib/python3.7/dist-packages (from importlib-metadata>=1.7.0->stevedore>=3.0.0->qiskit-terra==0.19.1->qiskit) (3.7.0)\n",
            "Requirement already satisfied: typing-extensions>=3.6.4 in /usr/local/lib/python3.7/dist-packages (from importlib-metadata>=1.7.0->stevedore>=3.0.0->qiskit-terra==0.19.1->qiskit) (3.10.0.2)\n",
            "Requirement already satisfied: mpmath>=0.19 in /usr/local/lib/python3.7/dist-packages (from sympy>=1.3->qiskit-terra==0.19.1->qiskit) (1.2.1)\n",
            "Building wheels for collected packages: qiskit, python-constraint\n",
            "  Building wheel for qiskit (setup.py) ... \u001b[?25l\u001b[?25hdone\n",
            "  Created wheel for qiskit: filename=qiskit-0.34.1-py3-none-any.whl size=11771 sha256=cfe5aa6939ea989f71173e91a7bbda328c241a8087bf6c4a4f7d3ca0e61a0fc0\n",
            "  Stored in directory: /root/.cache/pip/wheels/79/b1/3f/8cdfd5543a84705e4bd16e081f2362b9b3bfd9898d2e2d4150\n",
            "  Building wheel for python-constraint (setup.py) ... \u001b[?25l\u001b[?25hdone\n",
            "  Created wheel for python-constraint: filename=python_constraint-1.4.0-py2.py3-none-any.whl size=24081 sha256=de6c7a1274cb05c88acf17361337a34a1c193089406692d1a4b1d8db89920b08\n",
            "  Stored in directory: /root/.cache/pip/wheels/07/27/db/1222c80eb1e431f3d2199c12569cb1cac60f562a451fe30479\n",
            "Successfully built qiskit python-constraint\n",
            "Installing collected packages: pbr, tweedledum, symengine, stevedore, retworkx, python-constraint, ply, ntlm-auth, cryptography, websocket-client, requests-ntlm, qiskit-terra, qiskit-ignis, qiskit-ibmq-provider, qiskit-aer, qiskit\n",
            "Successfully installed cryptography-36.0.1 ntlm-auth-1.5.0 pbr-5.8.0 ply-3.11 python-constraint-1.4.0 qiskit-0.34.1 qiskit-aer-0.10.2 qiskit-ibmq-provider-0.18.3 qiskit-ignis-0.7.0 qiskit-terra-0.19.1 requests-ntlm-1.1.0 retworkx-0.11.0 stevedore-3.5.0 symengine-0.8.1 tweedledum-1.1.1 websocket-client-1.2.3\n"
          ]
        }
      ],
      "source": [
        "!pip install mitiq\n",
        "!pip install qiskit\n"
      ]
    },
    {
      "cell_type": "code",
      "execution_count": null,
      "metadata": {
        "colab": {
          "base_uri": "https://localhost:8080/"
        },
        "id": "51V-K4S8tOuB",
        "outputId": "a9677bef-bdbc-46f8-853e-148deb9edb13"
      },
      "outputs": [
        {
          "output_type": "stream",
          "name": "stdout",
          "text": [
            "Collecting pylatexenc\n",
            "  Downloading pylatexenc-2.10.tar.gz (162 kB)\n",
            "\u001b[?25l\r\u001b[K     |██                              | 10 kB 31.5 MB/s eta 0:00:01\r\u001b[K     |████                            | 20 kB 37.0 MB/s eta 0:00:01\r\u001b[K     |██████                          | 30 kB 22.2 MB/s eta 0:00:01\r\u001b[K     |████████                        | 40 kB 16.7 MB/s eta 0:00:01\r\u001b[K     |██████████                      | 51 kB 12.4 MB/s eta 0:00:01\r\u001b[K     |████████████                    | 61 kB 13.7 MB/s eta 0:00:01\r\u001b[K     |██████████████                  | 71 kB 13.1 MB/s eta 0:00:01\r\u001b[K     |████████████████▏               | 81 kB 14.4 MB/s eta 0:00:01\r\u001b[K     |██████████████████▏             | 92 kB 14.5 MB/s eta 0:00:01\r\u001b[K     |████████████████████▏           | 102 kB 12.9 MB/s eta 0:00:01\r\u001b[K     |██████████████████████▏         | 112 kB 12.9 MB/s eta 0:00:01\r\u001b[K     |████████████████████████▏       | 122 kB 12.9 MB/s eta 0:00:01\r\u001b[K     |██████████████████████████▏     | 133 kB 12.9 MB/s eta 0:00:01\r\u001b[K     |████████████████████████████▏   | 143 kB 12.9 MB/s eta 0:00:01\r\u001b[K     |██████████████████████████████▎ | 153 kB 12.9 MB/s eta 0:00:01\r\u001b[K     |████████████████████████████████| 162 kB 12.9 MB/s \n",
            "\u001b[?25hBuilding wheels for collected packages: pylatexenc\n",
            "  Building wheel for pylatexenc (setup.py) ... \u001b[?25l\u001b[?25hdone\n",
            "  Created wheel for pylatexenc: filename=pylatexenc-2.10-py3-none-any.whl size=136835 sha256=a5030ca79b28a9c4d476e110ed7a18e9901db8931b5b87c22b758c6d5f54fd78\n",
            "  Stored in directory: /root/.cache/pip/wheels/f1/8a/f5/33ee79d4473eb201b519fa40f989b842e373237395a3421f52\n",
            "Successfully built pylatexenc\n",
            "Installing collected packages: pylatexenc\n",
            "Successfully installed pylatexenc-2.10\n"
          ]
        }
      ],
      "source": [
        "pip install pylatexenc"
      ]
    },
    {
      "cell_type": "markdown",
      "metadata": {
        "id": "FPVe8TRn62r5"
      },
      "source": [
        "# Direction of file path"
      ]
    },
    {
      "cell_type": "code",
      "execution_count": null,
      "metadata": {
        "colab": {
          "base_uri": "https://localhost:8080/"
        },
        "id": "mOYhj2cc62Tt",
        "outputId": "45d6c33b-5294-4f8e-8aab-5ab275cd9e25"
      },
      "outputs": [
        {
          "output_type": "stream",
          "name": "stdout",
          "text": [
            "Mounted at /content/gdrive\n"
          ]
        }
      ],
      "source": [
        "# run it if you use colab and want to data into your google drive. Or, just ignore it.\n",
        "from google.colab import drive\n",
        "drive.mount('/content/gdrive')"
      ]
    },
    {
      "cell_type": "code",
      "execution_count": null,
      "metadata": {
        "id": "yu_63kkT6-1G"
      },
      "outputs": [],
      "source": [
        "path_dir='/content/gdrive/MyDrive/Trotter/Quantum_data.txt' # where you want to save"
      ]
    },
    {
      "cell_type": "markdown",
      "metadata": {
        "id": "CTLGb1Ntnk0S"
      },
      "source": [
        "# Import Package"
      ]
    },
    {
      "cell_type": "code",
      "execution_count": null,
      "metadata": {
        "id": "yyk2hsaGtBcS",
        "colab": {
          "base_uri": "https://localhost:8080/"
        },
        "outputId": "b597c4c2-7043-4d74-c826-aeaf8fe17879"
      },
      "outputs": [
        {
          "output_type": "stream",
          "name": "stderr",
          "text": [
            "/usr/local/lib/python3.7/dist-packages/ipykernel_launcher.py:5: DeprecationWarning: The qiskit.ignis package is deprecated and has been supersceded by the qiskit-experiments project. Refer to the migration guide: https://github.com/Qiskit/qiskit-ignis#migration-guide on how to migrate to the new project.\n",
            "  \"\"\"\n"
          ]
        }
      ],
      "source": [
        "import numpy as np\n",
        "from qiskit import *\n",
        "import qiskit\n",
        "from qiskit import Aer\n",
        "from qiskit.ignis.mitigation.measurement import complete_meas_cal, CompleteMeasFitter\n",
        "from qiskit.providers.aer.noise import NoiseModel\n",
        "import qiskit.providers.aer.noise as noise\n",
        "from qiskit.providers.aer.noise.errors.standard_errors import depolarizing_error\n",
        "import pandas as pd\n",
        "from qiskit.test.mock import *\n",
        "import matplotlib.pyplot as plt\n",
        "from qiskit.providers.aer import AerSimulator\n",
        "from qiskit.ignis.mitigation.measurement import complete_meas_cal, CompleteMeasFitter\n",
        "import itertools\n",
        "import mitiq\n",
        "import argparse\n",
        "# import cma\n",
        "import os\n",
        "import sys\n",
        "from qiskit import IBMQ\n",
        "from qiskit.tools.monitor import job_monitor\n",
        "import atexit\n",
        "import random"
      ]
    },
    {
      "cell_type": "code",
      "execution_count": null,
      "metadata": {
        "id": "mhGyZyn8fwGy"
      },
      "outputs": [],
      "source": [
        "from qiskit import *\n",
        "# Qiskit module\n",
        "from qiskit import QuantumCircuit\n",
        "import qiskit.circuit.library as circuit_library\n",
        "import qiskit.quantum_info as qi\n",
        "import qiskit.ignis.mitigation as mit\n",
        "\n",
        "# Qiskit tools for running and monitoring jobs\n",
        "from qiskit import execute\n",
        "from qiskit.tools.monitor import job_monitor\n",
        "\n",
        "from qiskit.tools.visualization import *\n",
        "import matplotlib.pyplot as plt\n",
        "import math\n",
        "import numpy as np\n",
        "from scipy.special import erf\n",
        "# Other imports\n",
        "from qiskit.ignis.mitigation.measurement import (complete_meas_cal, tensored_meas_cal,\n",
        "                                                 CompleteMeasFitter, TensoredMeasFitter)\n",
        "# Qiskit for pulse \n",
        "from qiskit import pulse\n",
        "\n",
        "from qiskit import *\n",
        "from qiskit.pulse import Play, Schedule, DriveChannel, ControlChannel, Waveform, ShiftPhase\n",
        "from qiskit.pulse.library import drag, GaussianSquare, Drag, Gaussian\n",
        "from qiskit.visualization import SchedStyle\n",
        "from qiskit.providers.aer import AerSimulator\n",
        "\n",
        "# Suppress warnings\n",
        "import warnings\n",
        "warnings.filterwarnings('ignore')\n",
        "\n",
        "from qiskit.circuit.gate import Gate\n",
        "from mitiq import zne \n",
        "\n",
        "from qiskit.ignis.mitigation.measurement import (\n",
        "    tensored_meas_cal,\n",
        "    TensoredMeasFitter,\n",
        "    TensoredFilter)\n",
        "\n",
        "import time\n",
        "from IPython.display import display, clear_output"
      ]
    },
    {
      "cell_type": "code",
      "execution_count": null,
      "metadata": {
        "colab": {
          "base_uri": "https://localhost:8080/"
        },
        "id": "EmmA4cnctBcT",
        "outputId": "249d7746-5848-4802-8128-b4389464205f"
      },
      "outputs": [
        {
          "output_type": "stream",
          "name": "stdout",
          "text": [
            "\n",
            "Mitiq: A Python toolkit for implementing error mitigation on quantum computers\n",
            "==============================================================================\n",
            "Authored by: Mitiq team, 2020 & later (https://github.com/unitaryfund/mitiq)\n",
            "\n",
            "Mitiq Version:\t0.12.0\n",
            "\n",
            "Core Dependencies\n",
            "-----------------\n",
            "Cirq Version:\t0.10.0\n",
            "NumPy Version:\t1.19.5\n",
            "SciPy Version:\t1.7.3\n",
            "\n",
            "Optional Dependencies\n",
            "---------------------\n",
            "PyQuil Version:\tNot installed\n",
            "Qiskit Version:\tNone\n",
            "Braket Version:\tNot installed\n",
            "\n",
            "Python Version:\t3.7.12\n",
            "Platform Info:\tLinux (x86_64)\n"
          ]
        }
      ],
      "source": [
        "mitiq.about()"
      ]
    },
    {
      "cell_type": "markdown",
      "metadata": {
        "id": "6sFE9nIV-XtS"
      },
      "source": [
        "# RZZ gate pulse schedule"
      ]
    },
    {
      "cell_type": "code",
      "execution_count": null,
      "metadata": {
        "id": "UO-snkuYtBcT"
      },
      "outputs": [],
      "source": [
        "def cx_pulse_instructions(qc: int, qt: int):\n",
        "    \"\"\"Retrieve the CNOT pulse schedule for the given\n",
        "    qubit pair from the backend defaults.\n",
        "    \n",
        "    Args:\n",
        "      qc: control qubit index\n",
        "      qt: target qubit index\n",
        "    \"\"\"\n",
        "    if [qc, qt] not in backend_config.coupling_map:\n",
        "        print('Qubit pair has no direct cross resonance!')\n",
        "    else:\n",
        "        cx = inst_sched_map.get('cx', qubits=[qc, qt])\n",
        "        return cx\n",
        "\n",
        "def Extract_GaussianSquare(q1, q2):\n",
        "    \"\"\"Retrieve the Gaussiacross resonance pulse waveform\n",
        "    for the qubit pair from the cx (CNOT) schedule.\n",
        "    \n",
        "    Args:\n",
        "      q1: control qubit index\n",
        "      q2: target qubit index\n",
        "    \"\"\"\n",
        "    cx = cx_pulse_instructions(q1, q2)\n",
        "    cx1 = cx_pulse_instructions(q2, q1)\n",
        "       \n",
        "    if cx.instructions[-1][0] < cx1.instructions[-1][0]: # get longer cnot gate pulse schedule \n",
        "        cx=cx1\n",
        "    idx = 0\n",
        "    Dr_gs = [] # get the gaussiansquare pulse of drive channel\n",
        "    cr_gs = [] # get the gaussiansquare pulse of control channel\n",
        "    control_channel='' # get the corresponding control channel for q1 and q2\n",
        "    Drive_Channel=''    # get the corresponding drive channel with gaussiansquare pulse\n",
        "    another_Drive_Channel='' # get another drive channel\n",
        "    \n",
        "    #look for them\n",
        "    \n",
        "    N = 1\n",
        "    for i in range(len(cx.instructions)):\n",
        "        if type(cx.instructions[i][1]) is ShiftPhase and type(cx.instructions[i][1].channel) is DriveChannel\\\n",
        "        and cx.instructions[i][1].phase == -math.pi/2 and N == 1 :\n",
        "            \n",
        "            another_Drive_Channel=cx.instructions[i][1].channels[0]\n",
        "            \n",
        "        if type(cx.instructions[i][1].channels[0]) is ControlChannel and type(cx.instructions[i][1]) is Play\\\n",
        "          and type(cx.instructions[i][1].pulse) is GaussianSquare:\n",
        "\n",
        "            cr_gs.append(cx.instructions[i][1].pulse)\n",
        "\n",
        "            control_channel=cx.instructions[i][1].channels[0]\n",
        "\n",
        "        if type(cx.instructions[i][1].channels[0]) is DriveChannel and type(cx.instructions[i][1]) is Play \\\n",
        "          and type(cx.instructions[i][1].pulse) is GaussianSquare:\n",
        "\n",
        "            Dr_gs.append(cx.instructions[i][1].pulse)\n",
        "\n",
        "            Drive_Channel=cx.instructions[i][1].channels[0]\n",
        "        if type(cx.instructions[i][1]) is Play:\n",
        "            N=0\n",
        "\n",
        "    return control_channel, cr_gs, Drive_Channel, Dr_gs, another_Drive_Channel\n",
        "\n",
        "\n",
        "def Get_Shift_phase_CRTL_Chan(q1, q2): # When driving channel is phase shifted, the corresponding control channel need to be phase shifted. \n",
        "    \"\"\"Get the driving channels' corresponding control channels\n",
        "    \n",
        "    Args:\n",
        "      q1: qubit\n",
        "      q2: qubit\n",
        "    out_put: \n",
        "      control_chan1: the corresponding control channel of driving channel with \n",
        "    \"\"\"\n",
        "    cx1 = cx_pulse_instructions(q1, q2)\n",
        "    cx2 = cx_pulse_instructions(q2, q1)\n",
        "    if cx1.instructions[-1][0] > cx2.instructions[-1][0]:\n",
        "        cx1, cx2 = cx2, cx1\n",
        "    control_chan0 = []\n",
        "    control_chan1 = []\n",
        "    for i in range(len(cx2.instructions)):\n",
        "        if type(cx2.instructions[i][1]) is ShiftPhase and type(cx2.instructions[i][1].channel) is ControlChannel\\\n",
        "        and cx2.instructions[i][1].phase == -math.pi/2 :\n",
        "            control_chan0.append(cx2.instructions[i][1].channel)\n",
        "        if type(cx2.instructions[i][1]) is ShiftPhase and type(cx2.instructions[i][1].channel) is ControlChannel\\\n",
        "        and cx2.instructions[i][1].phase == -math.pi :\n",
        "            control_chan1.append(cx2.instructions[i][1].channel)\n",
        "        if type(cx2.instructions[i][1]) is Play:\n",
        "            break\n",
        "\n",
        "    return control_chan0, control_chan1 \n",
        "\n",
        "\n",
        "def Rzz_90_gate_schedule (q0,q1):\n",
        "    uchan, cr_pulse, Dchan, dr_pulse, another_Dchan = Extract_GaussianSquare(q0, q1)\n",
        "    #Y_chan, X_chan = Get_XY_chan(q0,q1)\n",
        "    control_chan0, control_chan1 = Get_Shift_phase_CRTL_Chan(q0, q1)\n",
        "    \n",
        "    \n",
        "    Y_q = Dchan.index # corresponding \n",
        "    \n",
        "    X_q = another_Dchan.index\n",
        "    \n",
        "    Y90p = inst_sched_map.get('u2', P0=0, P1=0, qubits=[Y_q]).instructions\n",
        "    \n",
        "    X_180 = inst_sched_map.get('x', qubits=[X_q]).instructions[0][1].pulse\n",
        "    \n",
        "    for Y in Y90p:\n",
        "        if type(Y[1]) is Play:\n",
        "            Y_pulse = Y[1].pulse\n",
        "            \n",
        "    drive_samples = Y_pulse.duration\n",
        "    \n",
        "    cr_samples = cr_pulse[0].duration\n",
        "  \n",
        "    Rzz_90_schedule = pulse.Schedule(name=\"RZZ gate m90 pulse\") \n",
        "    \n",
        "    Rzz_90_schedule |= ShiftPhase(-math.pi, Dchan) #<< int(2*cr_samples+2*drive_samples)\n",
        "    \n",
        "    for chan in control_chan1:\n",
        "        Rzz_90_schedule |= ShiftPhase(-math.pi, chan) #<< int(2*cr_samples+2*drive_samples)\n",
        "    \n",
        "    Rzz_90_schedule |= Play(Y_pulse, Dchan)\n",
        "    \n",
        "    Rzz_90_schedule |= ShiftPhase(-math.pi, Dchan) << int(drive_samples)\n",
        "    \n",
        "    for chan in control_chan1: \n",
        "        Rzz_90_schedule |= ShiftPhase(-math.pi, chan) << int(drive_samples)\n",
        "\n",
        "    \n",
        "    Rzz_90_schedule |= Play(dr_pulse[0], Dchan) << int(drive_samples)\n",
        "    Rzz_90_schedule |= Play(cr_pulse[0], uchan) << int(drive_samples)\n",
        "    \n",
        "    Rzz_90_schedule |= Play(X_180, another_Dchan) << int(cr_samples+drive_samples)\n",
        "\n",
        "    Rzz_90_schedule |= Play(dr_pulse[1], Dchan) << int(cr_samples+2*drive_samples)\n",
        "    Rzz_90_schedule |= Play(cr_pulse[1], uchan) << int(cr_samples+2*drive_samples)\n",
        "    \n",
        "    Rzz_90_schedule |= Play(X_180, another_Dchan) << int(2*cr_samples+2*drive_samples)\n",
        "\n",
        "    Rzz_90_schedule |= Play(Y_pulse, Dchan) << int(2*cr_samples+2*drive_samples)\n",
        "    \n",
        "    return Rzz_90_schedule\n",
        "\n",
        "def Rzz_gate_schedule (q0,q1,theta):\n",
        "    \n",
        "    uchan, cr_pulse, Dchan, dr_pulse, another_Dchan = Extract_GaussianSquare(q0, q1)\n",
        "    #Y_chan, X_chan = Get_XY_chan(q0,q1)\n",
        "    control_chan0, control_chan1 = Get_Shift_phase_CRTL_Chan(q0, q1)\n",
        "    \n",
        "    Frac = 2*np.abs(theta)/math.pi\n",
        "    \n",
        "    Y_q = Dchan.index\n",
        "    \n",
        "    X_q = another_Dchan.index\n",
        "    \n",
        "    Y90p = inst_sched_map.get('u2', P0=0, P1=0, qubits=[Y_q]).instructions\n",
        "    \n",
        "    X_180 = inst_sched_map.get('x', qubits=[X_q]).instructions[0][1].pulse\n",
        "    \n",
        "    ### find out Y_90 pulse \n",
        "    \n",
        "    for Y in Y90p:\n",
        "        \n",
        "        if type(Y[1]) is Play:\n",
        "            \n",
        "            Y_pulse = Y[1].pulse\n",
        "            \n",
        "    ###\n",
        "            \n",
        "    drive_samples = Y_pulse.duration # The duration of Y pulse\n",
        "    \n",
        "    cr_samples = cr_pulse[0].duration # The duration gaussiansquare pulse\n",
        "    \n",
        "    cr_width= cr_pulse[0].width # gaussiansquare pulse's width\n",
        "    \n",
        "    cr_sigma = cr_pulse[0].sigma # gaussiansquare pulse's standard error\n",
        "    \n",
        "    cr_amp = np.abs(cr_pulse[0].amp)\n",
        "    \n",
        "    number_std = (cr_samples-cr_width)/cr_sigma\n",
        "    \n",
        "    Area_g = cr_amp*cr_sigma*np.sqrt(2*np.pi)*erf(number_std) \n",
        "    \n",
        "    Area_pi_2 = cr_width*cr_amp+Area_g \n",
        "    \n",
        "    dr_sigma = dr_pulse[0].sigma\n",
        "    \n",
        "    dr_amp = np.abs(dr_pulse[0].amp)\n",
        "    \n",
        "    Area_theta = Frac * Area_pi_2\n",
        "    \n",
        "    if Area_theta > Area_g:\n",
        "        \n",
        "        New_width = (Area_theta-Area_g)/cr_amp\n",
        "        \n",
        "        new_duration = math.ceil((New_width+number_std*cr_sigma)/16)*16\n",
        "        \n",
        "        cr_pulse[0] = GaussianSquare(duration=new_duration, amp=cr_pulse[0].amp, sigma=cr_sigma, width=New_width)\n",
        "        \n",
        "        cr_pulse[1] = GaussianSquare(duration=new_duration, amp=-cr_pulse[0].amp, sigma=cr_sigma, width=New_width)\n",
        "        \n",
        "        dr_pulse[0] = GaussianSquare(duration=new_duration, amp=dr_pulse[0].amp, sigma=dr_sigma, width=New_width)\n",
        "        \n",
        "        dr_pulse[1] = GaussianSquare(duration=new_duration, amp=-dr_pulse[0].amp, sigma=dr_sigma, width=New_width)\n",
        "        \n",
        "        \n",
        "    else:\n",
        "        \n",
        "        New_amp_cr =  cr_pulse[0].amp*Area_theta/Area_g\n",
        "        \n",
        "        New_amp_dr= dr_pulse[0].amp*Area_theta/Area_g\n",
        "        \n",
        "        new_duration = number_std * cr_sigma\n",
        "        \n",
        "        cr_pulse[0] = GaussianSquare(duration=int(new_duration), amp=New_amp_cr, sigma=cr_sigma, width=0)\n",
        "        #cr_pulse[0] = Gaussian(duration=int(new_duration), amp=cr_amp, sigma=cr_sigma)\n",
        "        \n",
        "        cr_pulse[1] = GaussianSquare(duration=int(new_duration), amp=-New_amp_cr, sigma=cr_sigma, width=0)\n",
        "\n",
        "        #cr_pulse[1] = Gaussian(duration=int(new_duration), amp=-cr_amp, sigma=cr_sigma)\n",
        "        \n",
        "        dr_pulse[0] = GaussianSquare(duration=int(new_duration), amp=New_amp_dr, sigma=dr_sigma, width=0)\n",
        "\n",
        "        #dr_pulse[0] = Gaussian(duration=int(new_duration), amp=dr_amp, sigma=dr_sigma)\n",
        "        \n",
        "        dr_pulse[1] = GaussianSquare(duration=int(new_duration), amp=-New_amp_dr, sigma=dr_sigma, width=0)\n",
        "\n",
        "        #dr_pulse[1] = Gaussian(duration=int(new_duration), amp=-dr_amp, sigma=dr_sigma)\n",
        "        \n",
        "    # Set up the Rzz schedule\n",
        "    if theta < 0 :\n",
        "  \n",
        "        RZZ_schedule = pulse.Schedule(name=\"RZZ gate pulse\") \n",
        "    \n",
        "        ### Y_-90 pulse\n",
        "    \n",
        "        #print(int(drive_samples))\n",
        "\n",
        "        #print(dr_pulse[0].width)\n",
        "\n",
        "        RZZ_schedule |= ShiftPhase(-math.pi, Dchan) \n",
        "    \n",
        "        for chan in control_chan1:\n",
        "            \n",
        "            RZZ_schedule |= ShiftPhase(-math.pi, chan) \n",
        "    \n",
        "        RZZ_schedule |= Play(Y_pulse, Dchan)\n",
        "    \n",
        "        RZZ_schedule |= ShiftPhase(-math.pi, Dchan) << int(drive_samples)\n",
        "    \n",
        "        for chan in control_chan1: \n",
        "        \n",
        "            RZZ_schedule |= ShiftPhase(-math.pi, chan) << int(drive_samples)\n",
        "        \n",
        "         ### \n",
        "    \n",
        "         ### Cross resonant pulses and X rotation echo pulse\n",
        "    \n",
        "        RZZ_schedule |= Play(dr_pulse[0], Dchan) << int(drive_samples)\n",
        "        RZZ_schedule |= Play(cr_pulse[0], uchan) << int(drive_samples)\n",
        "    \n",
        "        RZZ_schedule |= Play(X_180, another_Dchan) << int(new_duration+drive_samples)\n",
        "\n",
        "        RZZ_schedule |= Play(dr_pulse[1], Dchan) << int(new_duration+2*drive_samples)\n",
        "        RZZ_schedule |= Play(cr_pulse[1], uchan) << int(new_duration+2*drive_samples)\n",
        "    \n",
        "         ###\n",
        "    \n",
        "         ### X_180 pulse\n",
        "    \n",
        "        RZZ_schedule |= Play(X_180, another_Dchan) << int(2*new_duration+2*drive_samples)\n",
        "    \n",
        "         ## Y_90 pulse\n",
        "\n",
        "        RZZ_schedule |= Play(Y_pulse, Dchan) << int(2*new_duration+2*drive_samples)\n",
        "    \n",
        "        return RZZ_schedule\n",
        "    \n",
        "    else:\n",
        "        \n",
        "        RZZ_schedule = pulse.Schedule(name=\"RZZ gate pulse\") \n",
        "    \n",
        "        ### Y_90 pulse\n",
        "    \n",
        "    \n",
        "        RZZ_schedule |= Play(Y_pulse, Dchan)\n",
        "    \n",
        "        \n",
        "         ### \n",
        "    \n",
        "         ### Cross resonant pulses and X rotation echo pulse\n",
        "\n",
        "        #print(int(drive_samples))\n",
        "    \n",
        "        RZZ_schedule |= Play(dr_pulse[0], Dchan) << int(drive_samples)\n",
        "        RZZ_schedule |= Play(cr_pulse[0], uchan) << int(drive_samples)\n",
        "    \n",
        "        RZZ_schedule |= Play(X_180, another_Dchan) << int(new_duration+drive_samples)\n",
        "\n",
        "        RZZ_schedule |= Play(dr_pulse[1], Dchan) << int(new_duration+2*drive_samples)\n",
        "        RZZ_schedule |= Play(cr_pulse[1], uchan) << int(new_duration+2*drive_samples)\n",
        "    \n",
        "         ###\n",
        "    \n",
        "         ### X_180 pulse\n",
        "    \n",
        "        RZZ_schedule |= Play(X_180, another_Dchan) << int(2*new_duration+2*drive_samples)\n",
        "    \n",
        "         ## Y_-90 pulse\n",
        "        \n",
        "        RZZ_schedule |= ShiftPhase(-math.pi, Dchan) << int(2*new_duration+2*drive_samples)\n",
        "        \n",
        "        for chan in control_chan1:\n",
        "            \n",
        "            RZZ_schedule |= ShiftPhase(-math.pi, chan) << int(2*new_duration+2*drive_samples)\n",
        "        \n",
        "        RZZ_schedule |= Play(Y_pulse, Dchan) << int(2*new_duration+2*drive_samples)\n",
        "        \n",
        "        RZZ_schedule |= ShiftPhase(-math.pi, Dchan) << int(2*new_duration+3*drive_samples)\n",
        "    \n",
        "        for chan in control_chan1: \n",
        "        \n",
        "            RZZ_schedule |= ShiftPhase(-math.pi, chan) << int(2*new_duration+3*drive_samples)\n",
        "    \n",
        "        return RZZ_schedule"
      ]
    },
    {
      "cell_type": "markdown",
      "metadata": {
        "id": "45kVLvYupRPx"
      },
      "source": [
        "# Load token and get the provider"
      ]
    },
    {
      "cell_type": "code",
      "execution_count": null,
      "metadata": {
        "colab": {
          "base_uri": "https://localhost:8080/"
        },
        "id": "d9G7HuXUtBcT",
        "outputId": "d874970f-c4d1-4a81-a792-99a3d426794e"
      },
      "outputs": [
        {
          "output_type": "execute_result",
          "data": {
            "text/plain": [
              "<AccountProvider for IBMQ(hub='ibm-q', group='open', project='main')>"
            ]
          },
          "metadata": {},
          "execution_count": 9
        }
      ],
      "source": [
        "IBMQ.save_account('',overwrite=True )\n",
        "IBMQ.load_account()"
      ]
    },
    {
      "cell_type": "code",
      "execution_count": null,
      "metadata": {
        "id": "p4UYXZ44tBcU"
      },
      "outputs": [],
      "source": [
        "provider = IBMQ.get_provider(hub='ibm-q', group='open', project='main')\n",
        "\n",
        "backend_statevector = provider.get_backend('simulator_statevector')\n",
        "\n",
        "#Your provider\n",
        "provider = IBMQ.get_provider()"
      ]
    },
    {
      "cell_type": "code",
      "execution_count": null,
      "metadata": {
        "id": "8zp4XAc-tBcU"
      },
      "outputs": [],
      "source": [
        "backend = provider.get_backend('')\n",
        "\n",
        "properties = backend.properties()"
      ]
    },
    {
      "cell_type": "code",
      "execution_count": null,
      "metadata": {
        "colab": {
          "base_uri": "https://localhost:8080/"
        },
        "id": "MiSbRZqyNUnF",
        "outputId": "568610ff-bdd8-472d-8586-046af6894f9b"
      },
      "outputs": [
        {
          "output_type": "stream",
          "name": "stdout",
          "text": [
            "Sampling time: 0.2222222222222222 ns\n"
          ]
        }
      ],
      "source": [
        "backend_config = backend.configuration()\n",
        "ham_params = backend_config.hamiltonian['vars']\n",
        "dt = backend_config.dt\n",
        "print(f\"Sampling time: {dt*1e9} ns\")"
      ]
    },
    {
      "cell_type": "code",
      "execution_count": null,
      "metadata": {
        "colab": {
          "base_uri": "https://localhost:8080/"
        },
        "id": "MIGox0W6NVjo",
        "outputId": "a3fa7b28-6722-4266-f9df-50204680ac6a"
      },
      "outputs": [
        {
          "output_type": "execute_result",
          "data": {
            "text/plain": [
              "['cx', 'id', 'measure', 'rz', 'sx', 'u1', 'u2', 'u3', 'x']"
            ]
          },
          "metadata": {},
          "execution_count": 13
        }
      ],
      "source": [
        "backend_defaults = backend.defaults()\n",
        "inst_sched_map = backend_defaults.instruction_schedule_map \n",
        "inst_sched_map.instructions"
      ]
    },
    {
      "cell_type": "markdown",
      "metadata": {
        "id": "NycOewDZIKp2"
      },
      "source": [
        "# Post Selcetion"
      ]
    },
    {
      "cell_type": "code",
      "execution_count": null,
      "metadata": {
        "id": "AzQOmZMKtBcU"
      },
      "outputs": [],
      "source": [
        "def post_selection(bit_str):\n",
        "    \"\"\"This function takes in a bitstring, and will return False iff \n",
        "    there is a 1 next to another 1 in the given bitstring.\n",
        "    This does NOT consider a bitstring with 1s on either end as next to one another,\n",
        "    i.e. given a string of the form '10...01', this function should return False\"\"\"\n",
        "    new_str = '0' + bit_str[0:len(bit_str)]\n",
        "    for i in range(0,len(bit_str)+1):\n",
        "        if (new_str[i] == '1') & (new_str[i] == new_str[i-1]):\n",
        "            return False\n",
        "    return True\n",
        "\n",
        "def post_selected_expval(counts, qubit,fib_rest=True):\n",
        "    \"\"\"This function takes in the counts from a circuit execution, as well as a qubit index, \n",
        "    and outputs <Z> for that qubit after post-selection\"\"\"\n",
        "    copy_counts = counts.copy()\n",
        "    \n",
        "    total = []\n",
        "\n",
        "    if fib_rest:\n",
        "      for x in counts.keys():\n",
        "          if not post_selection(x):\n",
        "              copy_counts.pop(x)\n",
        "\n",
        "    for x in copy_counts:\n",
        "        total.append(copy_counts[x])\n",
        "\n",
        "    total = sum(total)\n",
        "\n",
        "    one_counts = 0\n",
        "\n",
        "    for x in copy_counts.keys():\n",
        "        if x[qubit] == '1':\n",
        "            one_counts += copy_counts[x]\n",
        "\n",
        "    if total == 0:\n",
        "\n",
        "      return -1\n",
        "\n",
        "    prob = one_counts / total\n",
        "\n",
        "    expval = 2*prob - 1\n",
        "    \n",
        "    return expval"
      ]
    },
    {
      "cell_type": "markdown",
      "metadata": {
        "id": "oaG-44C92Szi"
      },
      "source": [
        "# Rabi coupling, Z field, and ZZ interaction."
      ]
    },
    {
      "cell_type": "code",
      "execution_count": null,
      "metadata": {
        "id": "hY_WKUPjtBcV"
      },
      "outputs": [],
      "source": [
        "#Define the functions used to build the Trotter circuit.\n",
        "def h_Z(qc,h,dt,qubits_list,cond):\n",
        "\n",
        "  if cond == 'per':\n",
        "\n",
        "    if type(qubits_list) == int:\n",
        "\n",
        "      num =  qubits_list\n",
        "\n",
        "      for i in range(num):\n",
        "\n",
        "        qc.rz(2*h*dt,i)\n",
        "    #j=0\n",
        "    else:\n",
        "\n",
        "      for i in qubits_list:\n",
        "          #if j==0 or j==4:\n",
        "\n",
        "          qc.rz(2*h*dt,i)\n",
        "\n",
        "  if cond == 'op':\n",
        "\n",
        "    if type(qubits_list) == int:\n",
        "\n",
        "      num =  qubits_list\n",
        "\n",
        "      for i in range(num):\n",
        "        \n",
        "        if i==0 or i==(num-1):\n",
        "\n",
        "          qc.rz(h*dt,i)\n",
        "\n",
        "        else:\n",
        "\n",
        "          qc.rz(2*h*dt,i)\n",
        "    #j=0\n",
        "    else:\n",
        "      j=0\n",
        "      for i in qubits_list:\n",
        "          if j==0 or j==len(qubits_list)-1:\n",
        "\n",
        "            qc.rz(h*dt,i)\n",
        "\n",
        "          else:\n",
        "\n",
        "            qc.rz(2*h*dt,i)\n",
        "\n",
        "          j+=1\n",
        "        \n",
        "def X_Rabi(qc,Omega,dt,qubits_list): # Rabi coupling\n",
        "\n",
        "    if type(qubits_list) == int:\n",
        "\n",
        "      num =  qubits_list\n",
        "\n",
        "      for i in range(num):\n",
        "\n",
        "        qc.rx(2*Omega*dt,i)\n",
        "\n",
        "    else:\n",
        "    \n",
        "      for i in qubits_list:\n",
        "          \n",
        "          qc.rx(2*Omega*dt,i)\n",
        "        \n",
        "def ZZ(qc,V,dt,qubits_list,cond): # nearest neighbor coupling\n",
        "\n",
        "    if type(qubits_list) == int:\n",
        "\n",
        "      num =  qubits_list\n",
        "\n",
        "      for i in range(1,num-1,2):\n",
        "\n",
        "        qc.rzz(-2*V*dt,i,i+1)\n",
        "\n",
        "      if cond == 'per':\n",
        "\n",
        "        qc.rzz(-2*V*dt,0,num-1)\n",
        "\n",
        "      for i in range(0,num-1,2):\n",
        "\n",
        "        qc.rzz(-2*V*dt,i,i+1)\n",
        "\n",
        "    else:\n",
        "\n",
        "      for i, j in enumerate(qubits_list[1:-1:2]):\n",
        "      \n",
        "        qc.rzz(-2*V*dt,j,qubits_list[2*i+2])\n",
        "\n",
        "      if cond == 'per':\n",
        "\n",
        "        qc.rzz(-2*V*dt,qubits_list[0],qubits_list[-1])\n",
        "      \n",
        "      for i, j in enumerate(qubits_list[:-1:2]):\n",
        "\n",
        "        qc.rzz(-2*V*dt,j,qubits_list[2*i+1])\n",
        "\n",
        "def ZZ_inverse(qc,V,dt,qubits_list,cond): # nearest neighbor coupling\n",
        "\n",
        "    for i, j in enumerate(qubits_list[:-1:2]):\n",
        "\n",
        "      qc.rzz(-2*V*dt,j,qubits_list[2*i+1])\n",
        "      \n",
        "    for i, j in enumerate(qubits_list[1:-1:2]):\n",
        "    \n",
        "      qc.rzz(-2*V*dt,j,qubits_list[2*i+2])\n",
        "\n",
        "    if cond == 'per':\n",
        "\n",
        "      qc.rzz(-2*V*dt,qubits_list[0],qubits_list[-1])\n",
        "    \n",
        "def ZZ_half(qc,V,dt,qubits_list): # nearest neighbor coupling\n",
        "\n",
        "    for i, j in enumerate(qubits_list[:-1:2]):\n",
        "\n",
        "      qc.rzz(-2*V*dt,j,qubits_list[2*i+1])\n",
        "    "
      ]
    },
    {
      "cell_type": "markdown",
      "metadata": {
        "id": "IH5a1E4BlLR4"
      },
      "source": [
        "# Pulse Gate"
      ]
    },
    {
      "cell_type": "code",
      "execution_count": null,
      "metadata": {
        "id": "LGN0vhx3lK7v"
      },
      "outputs": [],
      "source": [
        "def Trotter_circuit_5_site_Rzz(h,Omega,V,T,n,qubits_list,cond):\n",
        "    \n",
        "    #t1,t2=DD_T(h,Omega,V,T,n,qubits_list,cond)\n",
        "    \n",
        "    Trotter_circuits = []\n",
        "    \n",
        "    dt=T/n\n",
        "    \n",
        "    for i in range(n):\n",
        "        \n",
        "        Trotter_circuit = QuantumCircuit(backend_config.n_qubits,len(qubits_list))\n",
        "\n",
        "        for j in qubits_list[1::2]:\n",
        "        \n",
        "            Trotter_circuit.x(j)\n",
        "        \n",
        "        ###\n",
        "        \n",
        "        Trotter_circuit.barrier()\n",
        "        \n",
        "        for k in range(i):\n",
        "            \n",
        "            X_Rabi(Trotter_circuit,Omega,dt,qubits_list) # Rabi coupling from the second term of Hamiltonian\n",
        "            \n",
        "            h_Z(Trotter_circuit,h,dt,qubits_list,cond) # Z field \n",
        "\n",
        "            ZZ(Trotter_circuit,V,dt,qubits_list,cond) \n",
        "\n",
        "            # Nearest neighbor hopping term\n",
        "            \n",
        "            Trotter_circuit.barrier()\n",
        "            \n",
        "        j=0\n",
        "        \n",
        "        for a in qubits_list:\n",
        "            \n",
        "            Trotter_circuit.measure(a,j)\n",
        "            \n",
        "            j+=1\n",
        "\n",
        "        for a, b in enumerate(qubits_list[1:-1:2]):\n",
        "\n",
        "          Trotter_circuit.add_calibration('rzz', [b,qubits_list[2*a+2]], Rzz_gate_schedule(b,qubits_list[2*a+2],-2*V*dt), [-2*V*dt])\n",
        "\n",
        "        if cond == 'per': \n",
        "        \n",
        "          Trotter_circuit.add_calibration('rzz', [qubits_list[0],qubits_list[-1]], Rzz_gate_schedule(qubits_list[0],qubits_list[-1],-2*V*dt), [-2*V*dt]) \n",
        "\n",
        "        for a, b in enumerate(qubits_list[:-1:2]):\n",
        "\n",
        "          Trotter_circuit.add_calibration('rzz', [b,qubits_list[2*a+1]], Rzz_gate_schedule(b,qubits_list[2*a+1],-2*V*dt), [-2*V*dt])\n",
        "\n",
        "        Trotter_circuit = transpile(Trotter_circuit, backend)\n",
        "        \n",
        "        Trotter_circuits.append(Trotter_circuit)\n",
        "        \n",
        "    return Trotter_circuits"
      ]
    },
    {
      "cell_type": "markdown",
      "metadata": {
        "id": "ZL_aM6Fi8gQM"
      },
      "source": [
        "# Twirled RZZ Randomized Folding"
      ]
    },
    {
      "cell_type": "code",
      "execution_count": null,
      "metadata": {
        "id": "GfP925ud8fyD"
      },
      "outputs": [],
      "source": [
        "def apply_pauli(circ, num, qb):\n",
        "    if (num == 0):\n",
        "        circ.i(qb)\n",
        "    elif (num == 1):\n",
        "        circ.x(qb)\n",
        "    elif (num == 2):\n",
        "        circ.y(qb)\n",
        "    else:\n",
        "        circ.z(qb)\n",
        "    return circ\n",
        "\n",
        "def Twirled_for_cnot(circ, qb0, qb1): # 16 Pauli twirlings\n",
        "    M=np.ones((4,4))\n",
        "\n",
        "    M[0,1]=-1\n",
        "    M[0,2]=-1\n",
        "    M[1,0]=-1\n",
        "    M[1,3]=-1\n",
        "    M[2,0]=-1\n",
        "    M[2,3]=-1\n",
        "    M[3,1]=-1\n",
        "    M[3,2]=-1\n",
        "\n",
        "    paulis = [(i,j) for i in range(0,4) for j in range(0,4)]\n",
        "    paulis.remove((0,0))\n",
        "    paulis_map = [(i,j) for i in range(0,4) for j in range(0,4)]\n",
        "    paulis_map.remove((0,0))\n",
        "    num = random.randrange(len(paulis))\n",
        "\n",
        "    apply_pauli(circ, paulis[num][0], qb0)\n",
        "    apply_pauli(circ, paulis[num][1], qb1)\n",
        "\n",
        "    circ.cx(qb0, qb1)\n",
        "\n",
        "    apply_pauli(circ, paulis_map[num][0], qb0)\n",
        "    apply_pauli(circ, paulis_map[num][1], qb1)\n",
        "\n",
        "def Twirled_for_cnot_1(circ, qb0, qb1): # 4 Pauli twirlings\n",
        "\n",
        "    paulis = [(i,i) for i in range(0,4)]\n",
        "    #paulis.remove((0,0))\n",
        "    paulis_map = [(i,i) for i in range(0,4)]\n",
        "    #paulis_map.remove((0,0))\n",
        "    num = random.randrange(len(paulis))\n",
        "\n",
        "    apply_pauli(circ, paulis[num][0], qb0)\n",
        "    apply_pauli(circ, paulis[num][1], qb1)\n",
        "\n",
        "    #circ.rzz(angle, qb0, qb1)\n",
        "    circ.cx(qb0, qb1)\n",
        "\n",
        "    apply_pauli(circ, paulis_map[num][0], qb0)\n",
        "    apply_pauli(circ, paulis_map[num][1], qb1)"
      ]
    },
    {
      "cell_type": "code",
      "execution_count": null,
      "metadata": {
        "id": "fuarIyzt8qZF"
      },
      "outputs": [],
      "source": [
        "def C_not(qc,V,dt,qubits_list,cond): # nearest neighbor coupling\n",
        "\n",
        "    num = len(qubits_list)\n",
        "\n",
        "    for i in range(1,num-1,2):\n",
        "\n",
        "      Twirled_for_cnot(qc,i,i+1)\n",
        "\n",
        "    if cond == 'per':\n",
        "\n",
        "      Twirled_for_cnot(qc,0,num-1)\n",
        "\n",
        "    for i in range(0,num-1,2):\n",
        "\n",
        "      Twirled_for_cnot(qc,i,i+1)\n",
        "\n",
        "#Define the functions used to build the Trotter circuit.\n",
        "def h_Z_c(qc,h,dt,qubits_list,cond):\n",
        "\n",
        "    num = len(qubits_list)\n",
        "\n",
        "    if cond == 'per':\n",
        "\n",
        "      for i in range(num):\n",
        "\n",
        "        qc.rz(2*h*dt,i)\n",
        "\n",
        "    if cond == 'op':\n",
        "\n",
        "      for i in range(num):\n",
        "        \n",
        "        if i==0 or i==(num-1):\n",
        "\n",
        "          qc.rz(h*dt,i)\n",
        "\n",
        "        else:\n",
        "\n",
        "          qc.rz(2*h*dt,i)\n",
        "        \n",
        "        \n",
        "def X_Rabi_c(qc,Omega,dt,qubits_list): # Rabi coupling\n",
        "\n",
        "    num = len(qubits_list)\n",
        "    \n",
        "    for i in range(num):\n",
        "        \n",
        "        qc.rx(2*Omega*dt,i)"
      ]
    },
    {
      "cell_type": "code",
      "execution_count": null,
      "metadata": {
        "id": "c5-eOb7O_QVx"
      },
      "outputs": [],
      "source": [
        "def Trotter_circuit_5_site_c(h,Omega,V,T,n,qubits_list,cond):\n",
        "    \n",
        "    q_len = len(qubits_list)\n",
        "    \n",
        "    Trotter_circuits = []\n",
        "    \n",
        "    dt=T/n\n",
        "    \n",
        "    for i in range(n):\n",
        "        \n",
        "        Trotter_circuit = QuantumCircuit(q_len,q_len)\n",
        "        \n",
        "        ### Initial state setting\n",
        "      \n",
        "        for j in range(1,q_len,2):\n",
        "        \n",
        "            Trotter_circuit.x(j)\n",
        "        \n",
        "        ###\n",
        "        \n",
        "        Trotter_circuit.barrier()\n",
        "        \n",
        "        for k in range(i):\n",
        "            \n",
        "            X_Rabi_c(Trotter_circuit,Omega,dt,qubits_list) # Rabi coupling from the second term of Hamiltonian\n",
        "            \n",
        "            h_Z_c(Trotter_circuit,h,dt,qubits_list,cond) # Z field \n",
        "            \n",
        "            C_not(Trotter_circuit,V,dt,qubits_list,cond) # Nearest neighbor hopping term\n",
        "            \n",
        "            Trotter_circuit.barrier()\n",
        "            \n",
        "        for i in range(q_len):\n",
        "\n",
        "          Trotter_circuit.measure(i,i)\n",
        "        \n",
        "        Trotter_circuits.append(Trotter_circuit)\n",
        "        \n",
        "    return Trotter_circuits"
      ]
    },
    {
      "cell_type": "code",
      "execution_count": null,
      "metadata": {
        "id": "bFDxZ-O7AFVo"
      },
      "outputs": [],
      "source": [
        "def TrotterExecutor_random_rzz( backend, n, qubits_list, dt, V, cond, scale_factors, n_Times):\n",
        "\n",
        "    folded_circuits = []\n",
        "\n",
        "    Omega = 4 #0.48 #0.7\n",
        "\n",
        "    V = 2\n",
        "\n",
        "    h = 2*V\n",
        "\n",
        "    T = 2.4 #10\n",
        "    \n",
        "    Rzz_circuits = []\n",
        "\n",
        "    #n_Times = 15\n",
        "\n",
        "    for i in range(n_Times):\n",
        "\n",
        "      circuits = Trotter_circuit_5_site_c(h,Omega,V,T,n,qubits_list, cond)\n",
        "\n",
        "      Rzz_circuits = Rzz_circuits+circuits\n",
        "\n",
        "    folded_circuits = []\n",
        "\n",
        "    for cnot_circuit in Rzz_circuits:\n",
        "\n",
        "      folded_circuits.append([zne.scaling.fold_gates_at_random(cnot_circuit, scale) for scale in scale_factors])\n",
        "\n",
        "    folded_circuits = list(itertools.chain(*folded_circuits))\n",
        "\n",
        "    dict_connection = {}\n",
        "\n",
        "    for k in qubits_list:\n",
        "\n",
        "      dict_connection[k] = 1\n",
        "\n",
        "    X=qiskit.circuit.library.standard_gates.x.XGate\n",
        "\n",
        "    Y=qiskit.circuit.library.standard_gates.y.YGate\n",
        "\n",
        "    Z=qiskit.circuit.library.standard_gates.z.ZGate\n",
        "\n",
        "    I=qiskit.circuit.library.standard_gates.i.IGate\n",
        "\n",
        "    rzz_folded_circuits = []\n",
        "\n",
        "    raw_rzz_folded_circuits = []\n",
        "\n",
        "    for h in range(len(folded_circuits)):  \n",
        "\n",
        "      rzz_folded = QuantumCircuit(QuantumRegister(backend_config.n_qubits, 'q'),*folded_circuits[h].cregs)\n",
        "\n",
        "      #for i,j in enumerate(folded_circuits[h][:]):\n",
        "      i=0\n",
        "\n",
        "      while i < len(folded_circuits[h][:]): \n",
        "\n",
        "        j=folded_circuits[h][i]\n",
        "\n",
        "        if i+1 < len(folded_circuits[h][:]):\n",
        "\n",
        "          y=folded_circuits[h][i+1]\n",
        "\n",
        "        if len(j[1])==2:\n",
        "\n",
        "          sign = dict_connection[qubits_list[j[1][0].index]] * dict_connection[qubits_list[j[1][1].index]]\n",
        "\n",
        "          rzz_folded.rzz(-2*sign*V*dt,qubits_list[j[1][0].index],qubits_list[j[1][1].index])\n",
        "\n",
        "          if len(y[1])==2 and (j[1][0].index,j[1][1].index) == (y[1][0].index,y[1][1].index):\n",
        "\n",
        "            rzz_folded.rzz(2*sign*V*dt,qubits_list[j[1][0].index],qubits_list[j[1][1].index])\n",
        "\n",
        "            i=i+1\n",
        "\n",
        "        else:\n",
        "\n",
        "          qtype = type(j[0])\n",
        "\n",
        "          if qtype in [I,X,Y,Z]:\n",
        "\n",
        "            if qtype in [X,Y]:\n",
        "\n",
        "              dict_connection[qubits_list[j[1][0].index]] = -1\n",
        "\n",
        "            else:\n",
        "\n",
        "              dict_connection[qubits_list[j[1][0].index]] = 1\n",
        "\n",
        "          #elif qtype == qiskit.circuit.measure.Measure:\n",
        "\n",
        "            #qiskit.circuit.measure.Measure\n",
        "\n",
        "          indx = j[1][0].index\n",
        "\n",
        "          j[1][0] = qiskit.circuit.Qubit(QuantumRegister(backend_config.n_qubits, 'q'), qubits_list[indx])\n",
        "\n",
        "          rzz_folded.data.append(j)\n",
        "\n",
        "        i=i+1\n",
        "\n",
        "      raw_rzz_folded_circuits.append(rzz_folded)\n",
        "\n",
        "      #rzz_folded = dd(rzz_folded,backend,qubits_list)\n",
        "\n",
        "      for a, b in enumerate(qubits_list[1:-1:2]):\n",
        "\n",
        "        rzz_folded.add_calibration('rzz', [b,qubits_list[2*a+2]], Rzz_gate_schedule(b,qubits_list[2*a+2],-2*V*dt), [-2*V*dt]) \n",
        "\n",
        "        rzz_folded.add_calibration('rzz', [b,qubits_list[2*a+2]], Rzz_gate_schedule(b,qubits_list[2*a+2],2*V*dt), [2*V*dt])\n",
        "      \n",
        "      if cond == 'per':\n",
        "\n",
        "        rzz_folded.add_calibration('rzz', [qubits_list[0],qubits_list[-1]], Rzz_gate_schedule(qubits_list[0],qubits_list[-1],-2*V*dt), [-2*V*dt]) \n",
        "\n",
        "        rzz_folded.add_calibration('rzz', [qubits_list[0],qubits_list[-1]], Rzz_gate_schedule(qubits_list[0],qubits_list[-1],2*V*dt), [2*V*dt])\n",
        "\n",
        "      for a, b in enumerate(qubits_list[:-1:2]):\n",
        "\n",
        "        rzz_folded.add_calibration('rzz', [b,qubits_list[2*a+1]], Rzz_gate_schedule(b,qubits_list[2*a+1],-2*V*dt), [-2*V*dt])\n",
        "\n",
        "        rzz_folded.add_calibration('rzz', [b,qubits_list[2*a+1]], Rzz_gate_schedule(b,qubits_list[2*a+1],2*V*dt), [2*V*dt])\n",
        "      \n",
        "      rzz_folded = DD_circuit(rzz_folded, backend,qubits_list) \n",
        "\n",
        "      for a, b in enumerate(qubits_list[1:-1:2]):\n",
        "\n",
        "        rzz_folded.add_calibration('rzz', [b,qubits_list[2*a+2]], Rzz_gate_schedule(b,qubits_list[2*a+2],-2*V*dt), [-2*V*dt]) \n",
        "\n",
        "        rzz_folded.add_calibration('rzz', [b,qubits_list[2*a+2]], Rzz_gate_schedule(b,qubits_list[2*a+2],2*V*dt), [2*V*dt])\n",
        "      \n",
        "      if cond == 'per':\n",
        "\n",
        "        rzz_folded.add_calibration('rzz', [qubits_list[0],qubits_list[-1]], Rzz_gate_schedule(qubits_list[0],qubits_list[-1],-2*V*dt), [-2*V*dt]) \n",
        "\n",
        "        rzz_folded.add_calibration('rzz', [qubits_list[0],qubits_list[-1]], Rzz_gate_schedule(qubits_list[0],qubits_list[-1],2*V*dt), [2*V*dt])\n",
        "\n",
        "      for a, b in enumerate(qubits_list[:-1:2]):\n",
        "\n",
        "        rzz_folded.add_calibration('rzz', [b,qubits_list[2*a+1]], Rzz_gate_schedule(b,qubits_list[2*a+1],-2*V*dt), [-2*V*dt])\n",
        "\n",
        "        rzz_folded.add_calibration('rzz', [b,qubits_list[2*a+1]], Rzz_gate_schedule(b,qubits_list[2*a+1],2*V*dt), [2*V*dt])\n",
        "\n",
        "      rzz_folded = transpile(rzz_folded, backend, optimization_level=0, scheduling_method='asap')\n",
        "\n",
        "      rzz_folded_circuits.append(rzz_folded)\n",
        "\n",
        "    if len(rzz_folded_circuits) <= 300:\n",
        "\n",
        "      job = qiskit.execute(\n",
        "          experiments=rzz_folded_circuits,\n",
        "          backend=backend,\n",
        "          optimization_level=0,\n",
        "          shots=8192\n",
        "      )\n",
        "\n",
        "      return job, raw_rzz_folded_circuits\n",
        "\n",
        "    else:\n",
        "\n",
        "      job_list=[]\n",
        "\n",
        "      for w in range(0,len(rzz_folded_circuits)-300,300):\n",
        "\n",
        "        circuits_pieces = rzz_folded_circuits[w:w+300]\n",
        "\n",
        "        job = qiskit.execute(\n",
        "          experiments=circuits_pieces,\n",
        "          backend=backend,\n",
        "          optimization_level=0,\n",
        "          shots=8192\n",
        "        )\n",
        "\n",
        "        job_list.append(job)\n",
        "\n",
        "      circuits_pieces = rzz_folded_circuits[w+300:len(rzz_folded_circuits)]\n",
        "\n",
        "      job = qiskit.execute(\n",
        "          experiments=circuits_pieces,\n",
        "          backend=backend,\n",
        "          optimization_level=0,\n",
        "          shots=8192\n",
        "        )\n",
        "      \n",
        "      job_list.append(job)\n",
        "      \n",
        "      return job_list, raw_rzz_folded_circuits\n",
        "      "
      ]
    },
    {
      "cell_type": "markdown",
      "metadata": {
        "id": "jTiWI-2c6tyT"
      },
      "source": [
        "# Two CNOT gate"
      ]
    },
    {
      "cell_type": "code",
      "execution_count": null,
      "metadata": {
        "id": "4mhbUDIm6tZ-"
      },
      "outputs": [],
      "source": [
        "def ZZ_cnot(qc,V,dt,qubits_list,cond): # nearest neighbor coupling\n",
        "\n",
        "    if cond == 'per':\n",
        "      if type(qubits_list) == int:\n",
        "\n",
        "        num =  qubits_list\n",
        "\n",
        "        for i in range(1,num-1,2):\n",
        "\n",
        "          qc.cx(i,i+1)\n",
        "\n",
        "          qc.rz(-2*V*dt,i+1)\n",
        "\n",
        "          qc.cx(i,i+1)\n",
        "\n",
        "        qc.cx(num-1,0)\n",
        "\n",
        "        qc.rz(-2*V*dt,0)\n",
        "\n",
        "        qc.cx(num-1,0)\n",
        "\n",
        "        \n",
        "\n",
        "        for i in range(0,num-1,2):\n",
        "\n",
        "          qc.cx(i,i+1)\n",
        "\n",
        "          qc.rz(-2*V*dt,i+1)\n",
        "\n",
        "          qc.cx(i,i+1)\n",
        "\n",
        "      else:\n",
        "\n",
        "        for i, j in enumerate(qubits_list[1:-1:2]):\n",
        "        \n",
        "          qc.cx(j,qubits_list[2*i+2])\n",
        "\n",
        "          qc.rz(-2*V*dt,qubits_list[2*i+2])\n",
        "\n",
        "          qc.cx(j,qubits_list[2*i+2])\n",
        "\n",
        "        qc.cx(qubits_list[-1],qubits_list[0])\n",
        "\n",
        "        qc.rz(-2*V*dt,qubits_list[0])\n",
        "\n",
        "        qc.cx(qubits_list[-1],qubits_list[0])\n",
        "        \n",
        "        for i, j in enumerate(qubits_list[:-1:2]):\n",
        "\n",
        "          qc.cx(j,qubits_list[2*i+1])\n",
        "\n",
        "          qc.rz(-2*V*dt,qubits_list[2*i+1])\n",
        "\n",
        "          qc.cx(j,qubits_list[2*i+1])\n",
        "\n",
        "    if cond == 'op':\n",
        "\n",
        "      if type(qubits_list) == int:\n",
        "\n",
        "        num =  qubits_list\n",
        "\n",
        "        for i in range(1,num-1,2):\n",
        "\n",
        "          qc.cx(i,i+1)\n",
        "\n",
        "          qc.rz(-2*V*dt,i+1)\n",
        "\n",
        "          qc.cx(i,i+1)\n",
        "\n",
        "\n",
        "        for i in range(0,num-1,2):\n",
        "\n",
        "          qc.cx(i,i+1)\n",
        "\n",
        "          qc.rz(-2*V*dt,i+1)\n",
        "\n",
        "          qc.cx(i,i+1)\n",
        "\n",
        "      else:\n",
        "\n",
        "        for i, j in enumerate(qubits_list[1:-1:2]):\n",
        "        \n",
        "          qc.cx(j,qubits_list[2*i+2])\n",
        "\n",
        "          qc.rz(-2*V*dt,qubits_list[2*i+2])\n",
        "\n",
        "          qc.cx(j,qubits_list[2*i+2])\n",
        "        \n",
        "        for i, j in enumerate(qubits_list[:-1:2]):\n",
        "\n",
        "          qc.cx(j,qubits_list[2*i+1])\n",
        "\n",
        "          qc.rz(-2*V*dt,qubits_list[2*i+1])\n",
        "\n",
        "          qc.cx(j,qubits_list[2*i+1])\n",
        "\n"
      ]
    },
    {
      "cell_type": "code",
      "execution_count": null,
      "metadata": {
        "id": "tX1RNSbd78Vt"
      },
      "outputs": [],
      "source": [
        "def Trotter_circuit_5_site_no_custom(h,Omega,V,T,n,qubits_list,cond):\n",
        "    \n",
        "    Trotter_circuits = []\n",
        "    \n",
        "    dt=T/n\n",
        "    \n",
        "    q_len = len(qubits_list)\n",
        "\n",
        "    for i in range(n):\n",
        "        \n",
        "        Trotter_circuit = QuantumCircuit(q_len,q_len)\n",
        "        \n",
        "        ### Initial state setting\n",
        "        \n",
        "        \n",
        "        for j in range(1,q_len,2):\n",
        "          \n",
        "          Trotter_circuit.x(j)\n",
        "        \n",
        "        ###\n",
        "        \n",
        "        Trotter_circuit.barrier()\n",
        "        \n",
        "        for k in range(i):\n",
        "            \n",
        "            X_Rabi(Trotter_circuit,Omega,dt,q_len) # Rabi coupling from the second term of Hamiltonian\n",
        "            \n",
        "            h_Z(Trotter_circuit,h,dt,q_len,cond) # Z field \n",
        "            \n",
        "            #Trotter_circuit.barrier()\n",
        "            \n",
        "            ZZ_cnot(Trotter_circuit,V,dt,q_len,cond) # Nearest neighbor hopping term\n",
        "            \n",
        "            Trotter_circuit.barrier()\n",
        "        \n",
        "        j=0\n",
        "        \n",
        "        for i in range(q_len):\n",
        "            \n",
        "            Trotter_circuit.measure(i,j)\n",
        "            \n",
        "            j+=1\n",
        "        \n",
        "        #Trotter_circuit = transpile(Trotter_circuit, backend) # compile into specific backend\n",
        "        \n",
        "        Trotter_circuits.append(Trotter_circuit)\n",
        "        \n",
        "    return Trotter_circuits"
      ]
    },
    {
      "cell_type": "markdown",
      "metadata": {
        "id": "0HRvCHvIztkO"
      },
      "source": [
        "# Two CNOT gate and Twirled CNOT"
      ]
    },
    {
      "cell_type": "code",
      "execution_count": null,
      "metadata": {
        "id": "lNuGsm3zCvnj"
      },
      "outputs": [],
      "source": [
        "def TwirledCNOT(circ, qb0, qb1):\n",
        "        def apply_pauli(circ, num, qb):\n",
        "            if (num == 0):\n",
        "                circ.i(qb)\n",
        "            elif (num == 1):\n",
        "                circ.x(qb)\n",
        "            elif (num == 2):\n",
        "                circ.y(qb)\n",
        "            else:\n",
        "                circ.z(qb)\n",
        "            return circ\n",
        "            \n",
        "        paulis = [(i,j) for i in range(0,4) for j in range(0,4)]\n",
        "        paulis.remove((0,0))\n",
        "        paulis_map = [(0, 1), (3, 2), (3, 3), (1, 1), (1, 0), (2, 3), (2, 2), (2, 1), (2, 0), (1, 3), (1, 2), (3, 0), (3, 1), (0, 2), (0, 3)]\n",
        "        num = random.randrange(len(paulis))\n",
        "\n",
        "        apply_pauli(circ, paulis[num][0], qb0)\n",
        "        apply_pauli(circ, paulis[num][1], qb1)\n",
        "        circ.cnot(qb0, qb1)\n",
        "        apply_pauli(circ, paulis_map[num][0], qb0)\n",
        "        apply_pauli(circ, paulis_map[num][1], qb1)\n"
      ]
    },
    {
      "cell_type": "code",
      "execution_count": null,
      "metadata": {
        "id": "8-rrQtxOKUTY"
      },
      "outputs": [],
      "source": [
        "def ZZ_cnot_Twirled(qc,V,dt,qubits_list,cond): # nearest neighbor coupling\n",
        "\n",
        "    if type(qubits_list) == int:\n",
        "\n",
        "      num =  qubits_list\n",
        "\n",
        "      for i in range(1,num-1,2):\n",
        "\n",
        "        TwirledCNOT(qc, i,i+1)\n",
        "\n",
        "        qc.rz(-2*V*dt,i+1)\n",
        "\n",
        "        TwirledCNOT(qc, i,i+1)\n",
        "\n",
        "      if cond == 'per':\n",
        "\n",
        "        TwirledCNOT(qc, num-1,0)\n",
        "\n",
        "        qc.rz(-2*V*dt,0)\n",
        "\n",
        "        TwirledCNOT(qc, num-1,0)\n",
        "\n",
        "        qc.barrier()\n",
        "\n",
        "      for i in range(0,num-1,2):\n",
        "\n",
        "        TwirledCNOT(qc, i,i+1)\n",
        "\n",
        "        qc.rz(-2*V*dt,i+1)\n",
        "\n",
        "        TwirledCNOT(qc, i,i+1)\n",
        "\n",
        "    else:\n",
        "\n",
        "      for i, j in enumerate(qubits_list[1:-1:2]):\n",
        "\n",
        "        TwirledCNOT(qc, j,qubits_list[2*i+2])\n",
        "      \n",
        "        qc.rz(-2*V*dt,qubits_list[2*i+2])\n",
        "\n",
        "        TwirledCNOT(qc, j,qubits_list[2*i+2])\n",
        "\n",
        "      if cond == 'per':\n",
        "\n",
        "        TwirledCNOT(qc, qubits_list[-1], qubits_list[0])\n",
        "        \n",
        "        qc.rz(-2*V*dt,qubits_list[0])\n",
        "\n",
        "        TwirledCNOT(qc, qubits_list[-1],qubits_list[0])\n",
        "\n",
        "      for i, j in enumerate(qubits_list[:-1:2]):\n",
        "\n",
        "        TwirledCNOT(qc, j,qubits_list[2*i+1])\n",
        "      \n",
        "        qc.rz(-2*V*dt,qubits_list[2*i+1])\n",
        "\n",
        "        TwirledCNOT(qc, j,qubits_list[2*i+1])        "
      ]
    },
    {
      "cell_type": "code",
      "execution_count": null,
      "metadata": {
        "id": "2E-CH1TNySvg"
      },
      "outputs": [],
      "source": [
        "def Trotter_circuit_5_site_no_custom_Twirled(h,Omega,V,T,n,qubits_list,cond):\n",
        "\n",
        "    q_len = len(qubits_list)\n",
        "    \n",
        "    Trotter_circuits = []\n",
        "    \n",
        "    dt=T/n\n",
        "    \n",
        "    for i in range(n):\n",
        "        \n",
        "        Trotter_circuit = QuantumCircuit(q_len,q_len)\n",
        "        \n",
        "        ### Initial state setting\n",
        "        \n",
        "        for j in range(1,q_len,2):\n",
        "          \n",
        "          Trotter_circuit.x(j)\n",
        "        \n",
        "        ###\n",
        "        \n",
        "        Trotter_circuit.barrier()\n",
        "        \n",
        "        for k in range(i):\n",
        "            \n",
        "            X_Rabi(Trotter_circuit,Omega,dt,q_len) # Rabi coupling from the second term of Hamiltonian\n",
        "            \n",
        "            h_Z(Trotter_circuit,h,dt,q_len,cond) # Z field \n",
        "            \n",
        "            ZZ_cnot_Twirled(Trotter_circuit,V,dt,q_len,cond) # Nearest neighbor hopping term\n",
        "            \n",
        "            Trotter_circuit.barrier()\n",
        "        \n",
        "        j=0\n",
        "        \n",
        "        for i in range(q_len):\n",
        "            \n",
        "            Trotter_circuit.measure(i,j)\n",
        "            \n",
        "            j+=1\n",
        "        \n",
        "        #Trotter_circuit = transpile(Trotter_circuit, backend) # compile into specific backend\n",
        "        \n",
        "        Trotter_circuits.append(Trotter_circuit)\n",
        "        \n",
        "    return Trotter_circuits"
      ]
    },
    {
      "cell_type": "code",
      "execution_count": null,
      "metadata": {
        "id": "xptRmMPgSRIs"
      },
      "outputs": [],
      "source": [
        "def TrotterCNOTExecutor( n, backend, shots, qubits_list, cond, scale_factors, n_Times):\n",
        "\n",
        "    folded_circuits = []\n",
        "\n",
        "    backend_config_1 = backend.configuration()\n",
        "\n",
        "    Omega = 4 #0.48 #0.7\n",
        "\n",
        "    V = 2 #0.35\n",
        "\n",
        "    h = 2*V\n",
        "\n",
        "    T = 2.4 #10.0\n",
        "    \n",
        "    Cnot_circuits = []\n",
        "\n",
        "    for i in range(n_Times):\n",
        "\n",
        "      circuits = Trotter_circuit_5_site_no_custom_Twirled(h,Omega,V,T,n,qubits_list, cond)\n",
        "\n",
        "      Cnot_circuits = Cnot_circuits+circuits\n",
        "\n",
        "    fidelity={\"single\": Single_err,\"CNOT\": Ave_cnot_err}\n",
        "\n",
        "    for circuit in Cnot_circuits:\n",
        "\n",
        "        folded_circuits.append([mitiq.zne.scaling.fold_gates_at_random(circuit, scale, fidelities=fidelity) for scale in scale_factors])\n",
        "\n",
        "    folded_circuits = list(itertools.chain(*folded_circuits))\n",
        "\n",
        "    qr = QuantumRegister(len(qubits_list), 'q')\n",
        "\n",
        "    init_layout = {}\n",
        "\n",
        "    for i,j in enumerate(qubits_list):\n",
        "\n",
        "       init_layout[qr[i]] = j\n",
        "\n",
        "    if backend_config_1.coupling_map:\n",
        "\n",
        "      for i in range(len(folded_circuits)):\n",
        "\n",
        "        folded_circuits[i] = DD_circuit(folded_circuits[i], backend, qubits_list, initial_layout = init_layout)\n",
        "\n",
        "    if len(folded_circuits) <= 300:\n",
        "\n",
        "      job = qiskit.execute(\n",
        "          experiments=folded_circuits,\n",
        "          backend=backend,\n",
        "          optimization_level=0,\n",
        "          shots=shots\n",
        "          #initial_layout = init_layout\n",
        "       )\n",
        "      #job = backend.run(rzz_folded_circuits,shots=8192)\n",
        "\n",
        "      return job\n",
        "\n",
        "    else:\n",
        "\n",
        "      job_list=[]\n",
        "\n",
        "      for w in range(0,len(folded_circuits)-300,300):\n",
        "\n",
        "        circuits_pieces = folded_circuits[w:w+300]\n",
        "\n",
        "        job = qiskit.execute(\n",
        "          experiments=circuits_pieces,\n",
        "          backend=backend,\n",
        "          optimization_level=0,\n",
        "          shots=shots\n",
        "        )\n",
        "\n",
        "        job_list.append(job)\n",
        "\n",
        "      circuits_pieces = folded_circuits[w+300:len(folded_circuits)]\n",
        "\n",
        "      job = qiskit.execute(\n",
        "          experiments=circuits_pieces,\n",
        "          backend=backend,\n",
        "          optimization_level=0,\n",
        "          shots=8192\n",
        "        )\n",
        "      \n",
        "      job_list.append(job)\n",
        "      \n",
        "      return job_list"
      ]
    },
    {
      "cell_type": "markdown",
      "metadata": {
        "id": "YXzmRdrYB3Gt"
      },
      "source": [
        "# Generalized DD"
      ]
    },
    {
      "cell_type": "code",
      "execution_count": null,
      "metadata": {
        "id": "20d_5LzaB04N"
      },
      "outputs": [],
      "source": [
        "def DD_circuit(circuit, backend,qubits_list, initial_layout = None ):\n",
        "\n",
        "  if initial_layout:\n",
        "\n",
        "    circuit = transpile(circuit, backend, optimization_level=0, scheduling_method='asap',initial_layout =init_layout)\n",
        "\n",
        "  else:\n",
        "\n",
        "    circuit = transpile(circuit, backend, optimization_level=0, scheduling_method='asap')\n",
        "\n",
        "  DD_cir = QuantumCircuit(*circuit.qregs,*circuit.cregs)\n",
        "  for operation in circuit[:]:\n",
        "\n",
        "    if type(operation[0])==qiskit.circuit.delay.Delay:\n",
        "\n",
        "      if operation[0].duration >= 400:\n",
        "\n",
        "        q_index = operation[1][0].index\n",
        "\n",
        "        t=(operation[0].duration-320)//4\n",
        "\n",
        "        t = math.ceil((t)/16)*16\n",
        "\n",
        "        DD_cir.delay(t,[q_index],'dt')\n",
        "\n",
        "        DD_cir.x(q_index)\n",
        "\n",
        "        DD_cir.delay(2*t,[q_index],'dt')\n",
        "\n",
        "        DD_cir.z(q_index)\n",
        "\n",
        "        DD_cir.x(q_index)\n",
        "\n",
        "        DD_cir.z(q_index)\n",
        "\n",
        "      else:\n",
        "        \n",
        "        DD_cir.data.append(operation)\n",
        "\n",
        "    else:\n",
        "\n",
        "      DD_cir.data.append(operation)\n",
        "\n",
        "  return DD_cir"
      ]
    },
    {
      "cell_type": "markdown",
      "metadata": {
        "id": "mCREXOQwMcIc"
      },
      "source": [
        "# Extrapolation"
      ]
    },
    {
      "cell_type": "code",
      "execution_count": null,
      "metadata": {
        "id": "_FMeWNrSEvm6"
      },
      "outputs": [],
      "source": [
        "def mitiq_Extrapolation_2(job, backend, scale_factors, qubits_list, meas_filter=None, Num=1):\n",
        "\n",
        "  N_q = len(qubits_list)\n",
        "\n",
        "  if type(job) is list:\n",
        "\n",
        "    Rzz_device_cir_result_counts = []\n",
        "\n",
        "    for i in job:\n",
        "\n",
        "      if  backend in provider.backends():\n",
        "\n",
        "        if meas_filter:\n",
        "\n",
        "          mit_results = meas_filter.apply(i.result(),method='pseudo_inverse')\n",
        "\n",
        "        else:\n",
        "\n",
        "          mit_results = i.result()\n",
        "\n",
        "      else:\n",
        "\n",
        "        mit_results = i.result()\n",
        "\n",
        "      Rzz_device_cir_result_counts += mit_results.get_counts()\n",
        "\n",
        "  else:\n",
        "\n",
        "      if  backend in provider.backends():\n",
        "\n",
        "        if meas_filter:\n",
        "\n",
        "          mit_results = meas_filter.apply(job.result(),method='pseudo_inverse')\n",
        "\n",
        "        else:\n",
        "\n",
        "          mit_results = job.result()\n",
        "\n",
        "      else:\n",
        "\n",
        "        mit_results = job.result()\n",
        "\n",
        "        Rzz_device_cir_result_counts = mit_results.get_counts()\n",
        "\n",
        "    #results = job.result()\n",
        "\n",
        "  #print('ya')\n",
        "\n",
        "  num_result = len(Rzz_device_cir_result_counts)//Num\n",
        "\n",
        "  result_list = Rzz_device_cir_result_counts\n",
        "\n",
        "  Original_num = num_result//len(scale_factors)\n",
        "\n",
        "  zero_noise_values_list = []\n",
        "\n",
        "  for p in range(Num):\n",
        "\n",
        "    selected_results = result_list[:p*num_result]+result_list[(p+1)*num_result:]\n",
        "\n",
        "    Ave_result_dict_list = []\n",
        "\n",
        "    for step in range(num_result):\n",
        "\n",
        "      RaW_avg = {}\n",
        "\n",
        "      for h in range(Num-1):\n",
        "\n",
        "        copy_counts=selected_results[step+h*num_result].copy()\n",
        "\n",
        "        for x in copy_counts.keys():\n",
        "\n",
        "          if x in RaW_avg:\n",
        "\n",
        "            RaW_avg[x] = RaW_avg[x]+(copy_counts[x]//Num)\n",
        "\n",
        "          else:\n",
        "\n",
        "            RaW_avg[x] = copy_counts[x]//Num\n",
        "\n",
        "      Ave_result_dict_list.append(RaW_avg.copy())\n",
        "\n",
        "    zero_noise_values = {}\n",
        "\n",
        "    for k in range(N_q):\n",
        "\n",
        "        expectation_values = []\n",
        "        \n",
        "        for t in range(num_result):\n",
        "            expectation_values.append(post_selected_expval(Ave_result_dict_list[t],k,fib_rest=False))\n",
        "\n",
        "        zero_noise_values[k] = []\n",
        "        if isinstance(backend, qiskit.providers.aer.backends.qasm_simulator.QasmSimulator): # exact_sim\n",
        "            for i in range(Original_num):\n",
        "                zero_noise_values[k].append(np.mean(expectation_values[i*len(scale_factors):(i+1)*len(scale_factors)]))\n",
        "        else: #device_sim\n",
        "            fac = mitiq.zne.inference.LinearFactory(scale_factors)\n",
        "            for i in range(Original_num):\n",
        "                zero_noise_values[k].append(fac.extrapolate(scale_factors, \n",
        "                expectation_values[i*len(scale_factors):(i+1)*len(scale_factors)]))\n",
        "\n",
        "    zero_noise_values_list.append(zero_noise_values)  \n",
        "\n",
        "  return zero_noise_values_list"
      ]
    },
    {
      "cell_type": "code",
      "execution_count": null,
      "metadata": {
        "id": "ETfCHtIH4gRJ"
      },
      "outputs": [],
      "source": [
        "def mitiq_Extrapolation_1(job, backend, scale_factors, qubits_list, meas_filter=None, Num=1):\n",
        "\n",
        "  N_q = len(qubits_list)\n",
        "\n",
        "  if type(job) is list:\n",
        "\n",
        "    Rzz_device_cir_result_counts = []\n",
        "\n",
        "    for i in job:\n",
        "\n",
        "      if  backend in provider.backends():\n",
        "\n",
        "        if meas_filter:\n",
        "\n",
        "          mit_results = meas_filter.apply(i.result(),method='pseudo_inverse')\n",
        "\n",
        "        else:\n",
        "\n",
        "          mit_results = i.result()\n",
        "\n",
        "      else:\n",
        "\n",
        "        mit_results = i.result()\n",
        "\n",
        "      Rzz_device_cir_result_counts += mit_results.get_counts()\n",
        "\n",
        "  else:\n",
        "\n",
        "      if  backend in provider.backends():\n",
        "\n",
        "        if meas_filter:\n",
        "\n",
        "          mit_results = meas_filter.apply(job.result(),method='pseudo_inverse')\n",
        "\n",
        "        else:\n",
        "\n",
        "          mit_results = job.result()\n",
        "\n",
        "      else:\n",
        "\n",
        "        mit_results = job.result()\n",
        "\n",
        "        Rzz_device_cir_result_counts = mit_results.get_counts()\n",
        "\n",
        "    #results = job.result()\n",
        "\n",
        "  #print('ya')\n",
        "\n",
        "  num_result = len(Rzz_device_cir_result_counts)//Num\n",
        "\n",
        "  result_list = Rzz_device_cir_result_counts\n",
        "\n",
        "  Original_num = num_result//len(scale_factors)\n",
        "\n",
        "  Ave_result_dict_list = []\n",
        "\n",
        "  for step in range(num_result):\n",
        "\n",
        "    RaW_avg = {}\n",
        "\n",
        "    for h in range(Num):\n",
        "\n",
        "      #copy_counts=mit_results.get_counts(step+h*num_result).copy()\n",
        "\n",
        "      copy_counts=result_list[step+h*num_result].copy()\n",
        "\n",
        "      for x in copy_counts.keys():\n",
        "\n",
        "        if x in RaW_avg:\n",
        "\n",
        "          RaW_avg[x] = RaW_avg[x]+(copy_counts[x]//Num)\n",
        "\n",
        "        else:\n",
        "\n",
        "          RaW_avg[x] = copy_counts[x]//Num\n",
        "\n",
        "    Ave_result_dict_list.append(RaW_avg.copy())\n",
        "\n",
        "  zero_noise_values = {}\n",
        "\n",
        "  for k in range(N_q):\n",
        "\n",
        "      expectation_values = []\n",
        "      \n",
        "      for t in range(num_result):\n",
        "          expectation_values.append(post_selected_expval(Ave_result_dict_list[t],k,fib_rest=False))\n",
        "\n",
        "      zero_noise_values[k] = []\n",
        "      if isinstance(backend, qiskit.providers.aer.backends.qasm_simulator.QasmSimulator): # exact_sim\n",
        "          for i in range(Original_num):\n",
        "              zero_noise_values[k].append(np.mean(expectation_values[i*len(scale_factors):(i+1)*len(scale_factors)]))\n",
        "      else: #device_sim\n",
        "          fac = mitiq.zne.inference.LinearFactory(scale_factors)\n",
        "          for i in range(Original_num):\n",
        "              zero_noise_values[k].append(fac.extrapolate(scale_factors, \n",
        "              expectation_values[i*len(scale_factors):(i+1)*len(scale_factors)]))\n",
        "\n",
        "  return zero_noise_values"
      ]
    },
    {
      "cell_type": "code",
      "execution_count": null,
      "metadata": {
        "id": "Ty0xNyJYMlwy"
      },
      "outputs": [],
      "source": [
        "def mitiq_Extrapolation(job, backend, scale_factors, qubits_list, meas_filter=None, Num=1):\n",
        "\n",
        "  N_q = len(qubits_list)\n",
        "\n",
        "  results = job.result()\n",
        "\n",
        "  num_result = len(results.get_counts())//Num\n",
        "\n",
        "  Original_num = num_result//len(scale_factors)\n",
        "\n",
        "  if  backend in provider.backends():\n",
        "\n",
        "    if meas_filter:\n",
        "\n",
        "      mit_results = meas_filter.apply(results,method='pseudo_inverse')\n",
        "\n",
        "    else:\n",
        "\n",
        "      mit_results = results\n",
        "\n",
        "  else:\n",
        "\n",
        "    mit_results = results\n",
        "\n",
        "  zero_noise_values_list = []\n",
        "  \n",
        "  for h in range(Num):\n",
        "\n",
        "      zero_noise_values = {}\n",
        "    \n",
        "      for k in range(N_q):\n",
        "\n",
        "          expectation_values = []\n",
        "          \n",
        "          for t in range(num_result):\n",
        "              expectation_values.append(post_selected_expval(mit_results.get_counts(t+h*num_result),k,fib_rest=False))\n",
        "\n",
        "          zero_noise_values[k] = []\n",
        "          if isinstance(backend, qiskit.providers.aer.backends.qasm_simulator.QasmSimulator): # exact_sim\n",
        "              for i in range(Original_num):\n",
        "                  zero_noise_values[k].append(np.mean(expectation_values[i*len(scale_factors):(i+1)*len(scale_factors)]))\n",
        "          else: #device_sim\n",
        "              fac = mitiq.zne.inference.LinearFactory(scale_factors)\n",
        "              for i in range(Original_num):\n",
        "                  zero_noise_values[k].append(fac.extrapolate(scale_factors, \n",
        "                  expectation_values[i*len(scale_factors):(i+1)*len(scale_factors)]))\n",
        "\n",
        "          zero_noise_values[k] = np.array(zero_noise_values[k])\n",
        "\n",
        "      zero_noise_values_list.append(zero_noise_values)\n",
        "\n",
        "  zero_noise_values_ave = {}\n",
        "\n",
        "\n",
        "  for i in range(N_q):\n",
        "\n",
        "    zero_noise_values_ave[i] = np.zeros(Original_num)\n",
        "\n",
        "  for h in range(Num):\n",
        "\n",
        "    for l in range(N_q):\n",
        "\n",
        "      zero_noise_values_ave[l] = zero_noise_values_ave[l]+zero_noise_values_list[h][l]/Num\n",
        "\n",
        "  return zero_noise_values"
      ]
    },
    {
      "cell_type": "code",
      "execution_count": null,
      "metadata": {
        "id": "3M9Y6jt6Gn-1"
      },
      "outputs": [],
      "source": [
        "def dict_aver_error(lst_count_dict):\n",
        "\n",
        "  Num_lst = len(lst_count_dict) \n",
        "\n",
        "  qubit_lst = list(lst_count_dict[0].keys())\n",
        "\n",
        "  aver_dict={}\n",
        "\n",
        "  err_dict={}\n",
        "\n",
        "  for j in qubit_lst:\n",
        "\n",
        "    q0=qubit_lst[0]\n",
        "\n",
        "    num_step = len(lst_count_dict[0][q0])\n",
        "\n",
        "    aver = np.zeros(num_step)\n",
        "\n",
        "    err = np.zeros(num_step)\n",
        "\n",
        "    for i in range(Num_lst):\n",
        "\n",
        "      aver = aver + np.array(lst_count_dict[i][j])/Num_lst\n",
        "\n",
        "    for i in range(Num_lst):\n",
        "\n",
        "      err = err+((np.array(lst_count_dict[i][j])-aver)**2)/Num_lst\n",
        "\n",
        "    err = np.sqrt(err)\n",
        "\n",
        "    aver_dict[j]=aver\n",
        "\n",
        "    err_dict[j]=err\n",
        "\n",
        "  return aver_dict, err_dict\n"
      ]
    },
    {
      "cell_type": "markdown",
      "metadata": {
        "id": "zEG74_-6-Gp7"
      },
      "source": [
        "# Execution"
      ]
    },
    {
      "cell_type": "code",
      "execution_count": null,
      "metadata": {
        "id": "vzAS0dYVtBcW"
      },
      "outputs": [],
      "source": [
        "#Parameters used for the Trotter cirucit\n",
        "Omega = 4 #0.48 #0.7\n",
        "\n",
        "V = 2 #2.0 #0.35\n",
        "\n",
        "h = 2*V\n",
        "\n",
        "T = 2.4 #10.0 #10 # Total time\n",
        "\n",
        "TT=T\n",
        "\n",
        "#delta_t = 0.5\n",
        "\n",
        "#n = int(np.rint(T/delta_t))\n",
        "\n",
        "n = 30\n",
        "\n",
        "n40 = 40\n",
        "\n",
        "NN=n\n",
        "\n",
        "NN40=n40\n",
        "\n",
        "qubits_list=[2,1,3,5,6]\n"
      ]
    },
    {
      "cell_type": "code",
      "execution_count": null,
      "metadata": {
        "id": "Tp0fN5-SwrlD"
      },
      "outputs": [],
      "source": [
        "\n",
        "#meas_calibs, state_labels = mit.expval_meas_mitigator_circuits(len(qubits_list), method='tensored')\n",
        "\n",
        "shots = 8192\n",
        "\n",
        "qr = QuantumRegister(len(qubits_list),'q')\n",
        "\n",
        "cal_circuits, state_labels = tensored_meas_cal(mit_pattern=[[i] for i in qubits_list])\n",
        "\n",
        "#state_labels = [range(2)]\n",
        "\n",
        "init_layout = {}\n",
        "\n",
        "for i,j in enumerate(qubits_list):\n",
        "\n",
        "    init_layout[qr[i]] = j\n",
        "\n"
      ]
    },
    {
      "cell_type": "code",
      "execution_count": null,
      "metadata": {
        "id": "t_MZfGB3YpeM"
      },
      "outputs": [],
      "source": [
        "cal_results = execute(cal_circuits, backend, shots=shots)\n",
        "\n"
      ]
    },
    {
      "cell_type": "code",
      "execution_count": null,
      "metadata": {
        "id": "1OjecEVdYtHz"
      },
      "outputs": [],
      "source": [
        "meas_fitter = TensoredMeasFitter(cal_results.result(), state_labels)\n",
        "\n",
        "meas_filter = meas_fitter.filter"
      ]
    },
    {
      "cell_type": "code",
      "execution_count": null,
      "metadata": {
        "id": "MENAGiZbyxDw"
      },
      "outputs": [],
      "source": [
        "\n",
        "cond = 'op'\n",
        "\n",
        "Trotter_circuit_no_custom = Trotter_circuit_5_site_no_custom(h,Omega,V,T,n,qubits_list,cond)\n",
        "\n",
        "Trotter_circuit_no_custom_Twirled = Trotter_circuit_5_site_no_custom_Twirled(h,Omega,V,T,n,qubits_list,cond)\n",
        "\n",
        "Trotter_circuit_no_custom_40 = Trotter_circuit_5_site_no_custom(h,Omega,V,T,n40,qubits_list,cond)\n",
        "\n",
        "Trotter_circuit_Rzz = Trotter_circuit_5_site_Rzz(h,Omega,V,T,n,qubits_list,cond)"
      ]
    },
    {
      "cell_type": "code",
      "execution_count": null,
      "metadata": {
        "id": "ueUpBlZVFBCR"
      },
      "outputs": [],
      "source": [
        "qr = QuantumRegister(len(qubits_list),'q')\n",
        "\n",
        "il = {}\n",
        "\n",
        "for i,j in enumerate(qubits_list):\n",
        "\n",
        "    il[qr[i]] = j\n",
        "\n",
        "shots=8192\n",
        "Trotter_result_sim = execute(Trotter_circuit_no_custom, backend_statevector, shots=shots, initial_layout=il)\n",
        "\n",
        "shots=15000\n",
        "\n",
        "backend_statevector = Aer.get_backend('aer_simulator_statevector')\n",
        "\n",
        "Trotter_result_sim_40 = execute(Trotter_circuit_no_custom_40, backend_statevector, shots=shots, initial_layout=il)"
      ]
    },
    {
      "cell_type": "code",
      "execution_count": null,
      "metadata": {
        "id": "08CEtHucy8de"
      },
      "outputs": [],
      "source": [
        "\n",
        "\n",
        "shots=8192\n",
        "\n",
        "Trotter_result_cnot = execute(Trotter_circuit_no_custom, backend, shots=shots, initial_layout=il)\n",
        "\n",
        "Trotter_result_Rzz = execute(Trotter_circuit_Rzz, backend, shots=shots)\n",
        "\n",
        "shots=15000\n",
        "\n",
        "backend_statevector = Aer.get_backend('aer_simulator_statevector')\n",
        "\n",
        "Trotter_result_sim_40 = execute(Trotter_circuit_no_custom_40, backend_statevector, shots=shots, initial_layout=il)"
      ]
    },
    {
      "cell_type": "markdown",
      "metadata": {
        "id": "GGNS2xVO3Han"
      },
      "source": [
        "# The result of Trotter circuit "
      ]
    },
    {
      "cell_type": "code",
      "execution_count": null,
      "metadata": {
        "colab": {
          "base_uri": "https://localhost:8080/"
        },
        "id": "MBIi43NotBcZ",
        "outputId": "8bd4f807-2914-49ef-b0bc-f594f520584b"
      },
      "outputs": [
        {
          "output_type": "stream",
          "name": "stdout",
          "text": [
            "Rzz gate: 61f6d0fb6fb7975e664471ab\n",
            "Rzz gate: 61f6d13f404aaec9cf43d1b2\n",
            "Rzz gate: 61f6d17bdfe4a9992e2328ac\n"
          ]
        }
      ],
      "source": [
        "shots=8192\n",
        "\n",
        "n = 30\n",
        "\n",
        "dt=T/n\n",
        "\n",
        "scale_factors = [1.0, 1.5, 2.0]\n",
        "\n",
        "\n",
        "real_device_job_rzz10 = TrotterExecutor_random_rzz( backend, n, qubits_list, dt, V, cond, scale_factors, 10)\n",
        "\n",
        "if type(real_device_job_rzz10[0]) is list:\n",
        "\n",
        "  for j in range(len(real_device_job_rzz10[0])):\n",
        "    \n",
        "    print('Rzz gate:',real_device_job_rzz10[0][j].job_id())\n",
        "\n",
        "else:\n",
        "\n",
        "  print('Rzz gate:',real_device_job_rzz10[0].job_id())\n"
      ]
    },
    {
      "cell_type": "code",
      "execution_count": null,
      "metadata": {
        "id": "yHoBb5ye3zhe"
      },
      "outputs": [],
      "source": [
        "#scale_factors = [1.0, 1.5, 2.0, 2.5]\n",
        "\n",
        "real_device_dict_rzz10 = mitiq_Extrapolation_1(real_device_job_rzz10[0], backend, scale_factors, qubits_list, meas_filter=meas_filter, Num=10)"
      ]
    },
    {
      "cell_type": "code",
      "execution_count": null,
      "metadata": {
        "id": "84ffvyoN-kie"
      },
      "outputs": [],
      "source": [
        "scale_factors = [1.0, 1.5, 2.0, 2.5]\n",
        "\n",
        "real_device_job_cnot_Twirled = TrotterCNOTExecutor(Trotter_circuit_no_custom_Twirled, backend, 8192, qubits_list, cond, scale_factors, 10)\n",
        "scale_factors = [1.0, 1.5, 2.0]"
      ]
    },
    {
      "cell_type": "code",
      "execution_count": null,
      "metadata": {
        "id": "ybAAzjQ8X7sL"
      },
      "outputs": [],
      "source": [
        "real_device_dict_cnot = mitiq_Extrapolation_1(real_device_job_cnot_Twirled, backend, scale_factors, qubits_list, meas_filter=meas_filter, Num=10)\n"
      ]
    },
    {
      "cell_type": "code",
      "execution_count": null,
      "metadata": {
        "id": "1PnUr2jyFQ3N"
      },
      "outputs": [],
      "source": [
        "scale_factors = [1.0, 1.5, 2.0]\n",
        "real_device_dict_rzz10 = mitiq_Extrapolation_1(real_device_job_rzz10[0], backend, scale_factors, qubits_list, meas_filter=meas_filter, Num=5)\n",
        "\n",
        "#real_device_dict_cnot = mitiq_Extrapolation_1(real_device_job_cnot_Twirled, backend, scale_factors, qubits_list, meas_filter=meas_filter, Num=5)"
      ]
    },
    {
      "cell_type": "code",
      "source": [
        "real_device_job_rzz10[0]"
      ],
      "metadata": {
        "id": "l-9wZjsP0p-R",
        "colab": {
          "base_uri": "https://localhost:8080/"
        },
        "outputId": "965daf03-1487-4a2b-ace2-8a36b0f1d317"
      },
      "execution_count": null,
      "outputs": [
        {
          "output_type": "execute_result",
          "data": {
            "text/plain": [
              "[<qiskit.providers.ibmq.job.ibmqjob.IBMQJob at 0x7f3269481190>,\n",
              " <qiskit.providers.ibmq.job.ibmqjob.IBMQJob at 0x7f327db39710>,\n",
              " <qiskit.providers.ibmq.job.ibmqjob.IBMQJob at 0x7f327b275cd0>]"
            ]
          },
          "metadata": {},
          "execution_count": 44
        }
      ]
    },
    {
      "cell_type": "code",
      "execution_count": null,
      "metadata": {
        "id": "maMTsYnrF1FO"
      },
      "outputs": [],
      "source": [
        "\n",
        "real_device_dict_rzz10_lst = mitiq_Extrapolation_2(real_device_job_rzz10[0], backend, scale_factors, qubits_list, meas_filter=meas_filter, Num=10)\n",
        "\n",
        "#real_device_dict_cnot_lst = mitiq_Extrapolation_2(real_device_job_cnot_Twirled, backend, scale_factors, qubits_list, meas_filter=meas_filter, Num=10)"
      ]
    },
    {
      "cell_type": "code",
      "execution_count": null,
      "metadata": {
        "id": "ZlJc7CqqGiXe"
      },
      "outputs": [],
      "source": [
        "device_dict_rzz10_ave, device_dict_rzz10_err=dict_aver_error(real_device_dict_rzz10_lst)\n",
        "\n",
        "#device_dict_cnot_ave, device_dict_cnot_err=dict_aver_error(real_device_dict_cnot_lst )"
      ]
    },
    {
      "cell_type": "code",
      "execution_count": null,
      "metadata": {
        "id": "sVwoiX9tKVZ5"
      },
      "outputs": [],
      "source": [
        "\n",
        "\n",
        "#result_cnot = Trotter_result_cnot.result()\n",
        "\n",
        "results_sim = Trotter_result_sim.result()\n",
        "\n",
        "results_sim_40 = Trotter_result_sim_40.result()\n",
        "\n",
        "#result_Rzz = Trotter_result_Rzz.result()"
      ]
    },
    {
      "cell_type": "code",
      "execution_count": null,
      "metadata": {
        "id": "rLPUR0_HzMIK"
      },
      "outputs": [],
      "source": [
        "q_n =len(qubits_list)\n",
        "counts_cnots_list = meas_fitter.filter.apply(result_cnot,method='pseudo_inverse').get_counts()\n",
        "counts_Rzz_list= meas_fitter.filter.apply(result_Rzz,method='pseudo_inverse').get_counts()\n",
        "Sz_sim = []\n",
        "Sz__cnots = []\n",
        "Sz__Rzz = []\n",
        "for i in range(NN):\n",
        "\n",
        "    tot_cnots=np.zeros(q_n)\n",
        "    tot_sim=np.zeros(q_n)\n",
        "    tot_Rzz=np.zeros(q_n)\n",
        "\n",
        "    counts_cnots = counts_cnots_list[i]\n",
        "    counts_Rzz = counts_Rzz_list[i]\n",
        "    counts_sim = results_sim.get_counts(i)\n",
        "    for j in range(2**q_n):\n",
        "        n=2**q_n\n",
        "\n",
        "        if j in counts_cnots.int_outcomes():\n",
        "            a=bin(n+j)[3:]\n",
        "            c= ' '\n",
        "            tot_cnots+=(2*np.array(c.join(a).split()).astype(int)-1)*counts_cnots.int_outcomes()[j]\n",
        "\n",
        "        if j in counts_sim.int_outcomes():\n",
        "            a=bin(n+j)[3:]\n",
        "            c= ' '\n",
        "            tot_sim+=(2*np.array(c.join(a).split()).astype(int)-1)*counts_sim.int_outcomes()[j]\n",
        "\n",
        "        if j in counts_Rzz.int_outcomes():\n",
        "            a=bin(n+j)[3:]\n",
        "            c= ' '\n",
        "            tot_Rzz+=(2*np.array(c.join(a).split()).astype(int)-1)*counts_Rzz.int_outcomes()[j]\n",
        "\n",
        "    Sz__cnots.append(tot_cnots/8192)\n",
        "    Sz_sim.append(tot_sim/8192)\n",
        "    Sz__Rzz.append(tot_Rzz/8192)\n",
        "\n",
        "Sz__Rzz=np.array(Sz__Rzz)\n",
        "Sz__cnots=np.array(Sz__cnots)\n",
        "Sz_sim=np.array(Sz_sim)"
      ]
    },
    {
      "cell_type": "code",
      "execution_count": null,
      "metadata": {
        "id": "EhHHzsU9y7dU"
      },
      "outputs": [],
      "source": [
        "Sz_sim40 = []\n",
        "for i in range(n40):\n",
        "    tot_sim40=np.zeros(q_n)\n",
        "    counts_sim40 = results_sim_40.get_counts(i)\n",
        "    for j in range(2**q_n):\n",
        "        n=2**q_n\n",
        "        if j in counts_sim40.int_outcomes():\n",
        "            a=bin(n+j)[3:]\n",
        "            c= ' '\n",
        "            tot_sim40+=(2*np.array(c.join(a).split()).astype(int)-1)*counts_sim40.int_outcomes()[j]\n",
        "    Sz_sim40.append(tot_sim40/15000)\n",
        "Sz_sim40 = np.array(Sz_sim40)"
      ]
    },
    {
      "cell_type": "markdown",
      "metadata": {
        "id": "FB3rJwSW92Oi"
      },
      "source": [
        "# ED"
      ]
    },
    {
      "cell_type": "code",
      "execution_count": null,
      "metadata": {
        "id": "gAQ_F_lk90v0"
      },
      "outputs": [],
      "source": [
        "import scipy.linalg as la\n",
        "\n",
        "def flip(n,i,L): \n",
        "    # Flip the i site spin in n-state with system size L\n",
        "    ii=2**(L-i-1)\n",
        "    nn=2**L\n",
        "    if int(bin(n+nn)[3:][i])==1:\n",
        "        return binaryToDecimal(int(bin(n-ii)[2:]))\n",
        "    if int(bin(n+nn)[3:][i])==0:\n",
        "        return binaryToDecimal(int(bin(n+ii)[2:]))\n",
        "\n",
        "\n",
        "def binaryToDecimal(binary): \n",
        "    # change the binary number into decimal number\n",
        "    binary1 = binary \n",
        "    decimal, i, n = 0, 0, 0\n",
        "    while(binary != 0): \n",
        "        dec = binary % 10\n",
        "        decimal = decimal + dec * pow(2, i) \n",
        "        binary = binary//10\n",
        "        i += 1\n",
        "    return decimal  \n",
        "\n",
        "def spin_x(i,L):\n",
        "    n=2**L\n",
        "    X=np.zeros((n,n))\n",
        "    for j in range(n):\n",
        "        X[j,flip(j,i,L)]=1\n",
        "    return X\n",
        "\n",
        "def spin_y(i,L):\n",
        "    n=2**L\n",
        "    Y=np.zeros((n,n),dtype=complex)\n",
        "    for j in range(n):\n",
        "        Y[j,flip(j,i,L)]=1j*(-1)**(int(bin(j+n)[3:][i]))\n",
        "    return Y\n",
        "\n",
        "def spin_z(i,L):\n",
        "    n=2**L\n",
        "    Z=np.zeros((n,n))\n",
        "    #a=2**L-1\n",
        "    for j in range(n):\n",
        "        Z[j,j]=2*int(bin(j+n)[2:][::-1][i])-1\n",
        "    return Z"
      ]
    },
    {
      "cell_type": "code",
      "execution_count": null,
      "metadata": {
        "id": "hN67fzN8_K9v"
      },
      "outputs": [],
      "source": [
        "L=5\n",
        "\n",
        "Omega = 4#0.48\n",
        "\n",
        "V = 2 #0.35\n",
        "\n",
        "h = 2*V\n",
        "\n",
        "\n",
        "H0=0\n",
        "for i in range(L):\n",
        "    H0=H0+Omega*spin_x(i,L) # Rabi coupling\n",
        "\n",
        "H1=0\n",
        "for i in range(L):\n",
        "    H1=H1+h*spin_z(i,L) \n",
        "\n",
        "\n",
        "if cond=='per':\n",
        "  H1=0\n",
        "  for i in range(L):\n",
        "      H1=H1+h*spin_z(i,L) \n",
        "\n",
        "  V0=0\n",
        "  for i in range(L):\n",
        "      n_f=spin_z((i)%L,L)\n",
        "      n_b=spin_z((i+1)%L,L)\n",
        "      V0=V0+V*np.dot(n_f,n_b)\n",
        "\n",
        "if cond=='op':\n",
        "  H1=0\n",
        "  H1=H1+h*spin_z(0,L)/2\n",
        "  H1=H1+h*spin_z(L-1,L)/2\n",
        "  for i in range(L-2):\n",
        "      H1=H1+h*spin_z(i+1,L) \n",
        "\n",
        "\n",
        "  V0=0\n",
        "  for i in range(L-1):\n",
        "      n_f=spin_z((i)%L,L)\n",
        "      n_b=spin_z((i+1)%L,L)\n",
        "      V0=V0+V*np.dot(n_f,n_b)\n",
        "\n",
        "\n",
        "H=H0+H1+V0"
      ]
    },
    {
      "cell_type": "code",
      "execution_count": null,
      "metadata": {
        "id": "CMI8MLDR_SyP"
      },
      "outputs": [],
      "source": [
        "M=H\n",
        "vals, vecs = la.eigh(M)\n",
        "\n",
        "inds=np.argsort(vals)\n",
        "e=vals[inds]\n",
        "v=vecs[:,inds]"
      ]
    },
    {
      "cell_type": "code",
      "execution_count": null,
      "metadata": {
        "id": "Fi1stfqH_V0T"
      },
      "outputs": [],
      "source": [
        "Nt=30-1\n",
        "T=2.4 #10.0 #10\n",
        "dt=T/Nt\n",
        "\n",
        "A=np.eye(len(e))*e\n",
        "U=np.dot(v,np.dot(np.exp(-1j*A*dt)*np.eye(len(e)),np.conj(np.transpose(v))))\n",
        "\n",
        "f = 10 #1365\n",
        "\n",
        "wavefunc=np.zeros((len(e),Nt+1),dtype=complex)\n",
        "n=np.zeros(len(e),dtype=complex)\n",
        "n[f]=1\n",
        "wavefunc[:,0]=n\n",
        "for i in range(Nt):\n",
        "    wavefunc[:,i+1]=np.dot(U,wavefunc[:,i])"
      ]
    },
    {
      "cell_type": "code",
      "execution_count": null,
      "metadata": {
        "id": "nRnxTGsj_wcx"
      },
      "outputs": [],
      "source": [
        "def Zi_t_p(tf,dt,f,i):\n",
        "  \n",
        "    Nt=tf/dt\n",
        "    Nt=int(Nt)\n",
        "\n",
        "    Zt=spin_z(i,L)\n",
        "    Zt1=[np.real(np.dot(np.conjugate(wavefunc[:,i]),np.dot(Zt,wavefunc[:,i]))) for i in range(Nt+1)]\n",
        "    Zt1=np.stack(Zt1,axis=0)\n",
        "    \n",
        "    return Zt1"
      ]
    },
    {
      "cell_type": "code",
      "execution_count": null,
      "metadata": {
        "id": "njbpIp96_fgo"
      },
      "outputs": [],
      "source": [
        "Zi=np.zeros((L,Nt+1))\n",
        "\n",
        "for i in range(L):\n",
        "  \n",
        "    Zi[i,:]=np.real(Zi_t_p(T,dt,f,i))"
      ]
    },
    {
      "cell_type": "markdown",
      "metadata": {
        "id": "IqwQQIOlFeQ9"
      },
      "source": [
        "# Plots and Result"
      ]
    },
    {
      "cell_type": "code",
      "execution_count": null,
      "metadata": {
        "id": "EVpj5EvxziQF",
        "colab": {
          "base_uri": "https://localhost:8080/",
          "height": 1000
        },
        "outputId": "b3654e4c-bf1c-44f6-95ea-e7a2fceb30a8"
      },
      "outputs": [
        {
          "output_type": "display_data",
          "data": {
            "image/png": "[encoded data removed]",
            "text/plain": [
              "<Figure size 432x288 with 1 Axes>"
            ]
          },
          "metadata": {
            "needs_background": "light"
          }
        },
        {
          "output_type": "display_data",
          "data": {
            "image/png": "[encoded data removed]",
            "text/plain": [
              "<Figure size 432x288 with 1 Axes>"
            ]
          },
          "metadata": {
            "needs_background": "light"
          }
        },
        {
          "output_type": "display_data",
          "data": {
            "image/png": "[encoded data removed]",
            "text/plain": [
              "<Figure size 432x288 with 1 Axes>"
            ]
          },
          "metadata": {
            "needs_background": "light"
          }
        },
        {
          "output_type": "display_data",
          "data": {
            "image/png": "[encoded data removed]",
            "text/plain": [
              "<Figure size 432x288 with 1 Axes>"
            ]
          },
          "metadata": {
            "needs_background": "light"
          }
        },
        {
          "output_type": "display_data",
          "data": {
            "image/png": "[encoded data removed]",
            "text/plain": [
              "<Figure size 432x288 with 1 Axes>"
            ]
          },
          "metadata": {
            "needs_background": "light"
          }
        }
      ],
      "source": [
        "\n",
        "for i in range(L):\n",
        "    t40 = np.linspace(0,T,40)\n",
        "    t=np.linspace(0,T,NN)\n",
        "    plt.title(\"Qubit\"+str(qubits_list[i]))\n",
        "    #plt.plot(t,real_device_dict_cnot_Twirled[i],color='r',label='Twirl, two cx and Rand ZNE')\n",
        "    plt.plot(t,Sz__cnots[:,i],color='b',label='Cnot_gates')\n",
        "    plt.plot(t,Sz_sim[:,i],color='g',label='Trotter simulation w/ statevector')\n",
        "    #plt.plot(t40,Sz_sim40[:,i],color='g',linestyle = 'dashdot',label='Trotter simulation 40 steps w/ statevector')\n",
        "    plt.plot(t,Sz__Rzz[:,i],color='y',label='Pulse gate')\n",
        "    #plt.plot(t,real_device_dict_cnot[i],color='m',label='Two Cnot gate with Random Twirling ZNE, DD')\n",
        "    plt.errorbar(t,device_dict_cnot_ave[i], yerr=device_dict_cnot_err[i],color='m',label='Two Cnot gate with Random Twirling ZNE, DD')\n",
        "    plt.errorbar(t,device_dict_rzz10_ave[i],yerr=device_dict_rzz10_err[i] ,color='r',label='with 10 Random Twirling ZNE, DD and pulse gate')\n",
        "    \n",
        "    plt.plot(t,Zi[i,:],color='k',label='ED')\n",
        "    plt.xticks(fontsize=14)\n",
        "    plt.yticks(fontsize=14)\n",
        "    plt.grid(True)\n",
        "    plt.legend()\n",
        "    plt.show()"
      ]
    },
    {
      "cell_type": "code",
      "source": [
        "Zpi=0\n",
        "Z_pi=0\n",
        "for i in range(L):\n",
        "  Zpi+=np.array(device_dict_rzz10_ave[i])*((-1)**i)\n",
        "  Z_pi+=np.array(Sz_sim[:,i])*((-1)**i)"
      ],
      "metadata": {
        "id": "FtZYL73U5r9I"
      },
      "execution_count": null,
      "outputs": []
    },
    {
      "cell_type": "code",
      "source": [
        "t=np.linspace(0,T,NN)\n",
        "plt.plot(t,Zpi/L,'go-',color='r')\n",
        "plt.plot(t,Z_pi/L,'go--',color='b')\n",
        "plt.grid()\n",
        "plt.show()"
      ],
      "metadata": {
        "colab": {
          "base_uri": "https://localhost:8080/",
          "height": 265
        },
        "id": "oHznpkJR5uK3",
        "outputId": "79e26d00-ada2-4072-afa2-e3f52c0e54c7"
      },
      "execution_count": null,
      "outputs": [
        {
          "output_type": "display_data",
          "data": {
            "image/png": "[encoded data removed]",
            "text/plain": [
              "<Figure size 432x288 with 1 Axes>"
            ]
          },
          "metadata": {
            "needs_background": "light"
          }
        }
      ]
    },
    {
      "cell_type": "code",
      "execution_count": null,
      "metadata": {
        "id": "5WN7z6TVbB_d"
      },
      "outputs": [],
      "source": [
        "def g(d,ei,ef):\n",
        "    \"\"\"\n",
        "    integration is written by myself with the Simpson's rule and 3/8 Simpson's rule. Unlike Scipy's, this code can directly deal\n",
        "with array with initial point and final point.\n",
        "    # d: the array before integrated\n",
        "    # ei: start point\n",
        "    # ef: ending point\n",
        "    \"\"\"\n",
        "    N=d.shape[0]-1\n",
        "    h=(ef-ei)/N\n",
        "    return ig(d,N+1,h)\n",
        "\n",
        "def ig(d,N,h): \n",
        "    #using the Simpson's rule\n",
        "    \"\"\"\n",
        "    The integration is written by myself with the Simpson's rule and 3/8 Simpson's rule. Unlike Scipy's, this code can directly deal\n",
        "with array with initial point and final point.\n",
        "    \"\"\"\n",
        "    if N == 1:\n",
        "        return 0\n",
        "    elif N==0:\n",
        "        return 0\n",
        "    elif N == 2:\n",
        "        return (d[0]+d[1])*h/2\n",
        "    elif N == 3:\n",
        "        return (d[0]+4*d[1]+d[2])*h/3\n",
        "    elif N == 4:\n",
        "        return (d[0]+3*d[1]+3*d[2]+d[3])*3*h/8\n",
        "    elif (N+1)%2 == 0:\n",
        "        return ((d[N-1]+d[0]+sum(d[1::2])*4+sum(d[2:N-1:2])*2))*h/3\n",
        "    elif (N+1)%2 == 1:\n",
        "        return (sum(d[1:N-3:2])*4+sum(d[2:N-5:2])*2+d[0]+d[N-4])*h/3+ig(d[-4:],4,h)"
      ]
    },
    {
      "cell_type": "code",
      "execution_count": null,
      "metadata": {
        "id": "k9TsqlMkbGVf",
        "colab": {
          "base_uri": "https://localhost:8080/",
          "height": 267
        },
        "outputId": "fc2971c0-6aad-4061-f9d2-5c34ec848052"
      },
      "outputs": [
        {
          "output_type": "display_data",
          "data": {
            "image/png": "[encoded data removed]",
            "text/plain": [
              "<Figure size 432x288 with 1 Axes>"
            ]
          },
          "metadata": {
            "needs_background": "light"
          }
        }
      ],
      "source": [
        "Int_D_cnot_t=[]\n",
        "Int_D_Rzz_t=[]\n",
        "Int_D_Rzz_fold_t_ave=[]\n",
        "Int_D_cnot_fold_t_ave=[]\n",
        "for k,j in enumerate(t):\n",
        "  #print(k,j)\n",
        "  D_cnot=0\n",
        "  D_Rzz=0\n",
        "  D_Rzz_fold=0\n",
        "  D_cnot_fold=0\n",
        "  for i in range(L):\n",
        "      plt.title(\"Qubit\"+str(L-i))\n",
        "      D_cnot=D_cnot+np.abs(Sz_sim[:k+1,i]-Sz__cnots[:k+1,i])**2\n",
        "      D_Rzz=D_Rzz+np.abs(Sz_sim[:k+1,i]-Sz__Rzz[:k+1,i])**2\n",
        "      D_Rzz_fold=D_Rzz_fold+np.abs(Sz_sim[:k+1,i]-np.array(real_device_dict_rzz10[i][:k+1]))**2\n",
        "      D_cnot_fold= D_cnot_fold+np.abs(Sz_sim[:k+1,i]-np.array(real_device_dict_cnot[i][:k+1]))**2\n",
        "\n",
        "  D_cnot=D_cnot/L\n",
        "  D_Rzz=D_Rzz/L\n",
        "  D_Rzz_fold=D_Rzz_fold/L\n",
        "  D_cnot_fold=D_cnot_fold/L\n",
        "\n",
        "  if j == 0:\n",
        "    Int_D_cnot=0\n",
        "    Int_D_Rzz=0\n",
        "    Int_D_Rzz_fold=0\n",
        "    Int_D_cnot_fold=0\n",
        "  else:\n",
        "    Int_D_cnot=g(D_cnot,0,j)/j\n",
        "    Int_D_Rzz=g(D_Rzz,0,j)/j\n",
        "    Int_D_Rzz_fold=g(D_Rzz_fold,0,j)/j\n",
        "    Int_D_cnot_fold=g(D_cnot_fold,0,j)/j\n",
        "\n",
        "  Int_D_cnot_t.append(Int_D_cnot)\n",
        "  Int_D_Rzz_t.append(Int_D_Rzz)\n",
        "  Int_D_Rzz_fold_t_ave.append(Int_D_Rzz_fold)\n",
        "  Int_D_cnot_fold_t_ave.append(Int_D_cnot_fold)\n",
        "Int_D_Rzz_fold_t_ave=np.array(Int_D_Rzz_fold_t_ave)\n",
        "Int_D_cnot_fold_t_ave=np.array(Int_D_cnot_fold_t_ave)\n",
        "\n",
        "Int_D_Rzz_fold_t_err=np.zeros(len(Int_D_Rzz_fold_t_ave))\n",
        "Int_D_cnot_fold_t_err=np.zeros(len(Int_D_Rzz_fold_t_ave))\n",
        "Twirled_num =len(real_device_dict_rzz10_lst)\n",
        "for p in range(len(real_device_dict_rzz10_lst)):\n",
        "  Int_D_Rzz_fold_t=[]\n",
        "  Int_D_cnot_fold_t=[]\n",
        "  for k,j in enumerate(t):\n",
        "    D_Rzz_fold=0\n",
        "    D_cnot_fold=0\n",
        "    for i in range(L):\n",
        "        D_Rzz_fold=D_Rzz_fold+np.abs(Sz_sim[:k+1,i]-np.array(real_device_dict_rzz10_lst[p][i][:k+1]))**2\n",
        "        D_cnot_fold= D_cnot_fold+np.abs(Sz_sim[:k+1,i]-np.array(real_device_dict_cnot_lst[p][i][:k+1]))**2\n",
        "\n",
        "\n",
        "    D_Rzz_fold=D_Rzz_fold/L\n",
        "    D_cnot_fold=D_cnot_fold/L\n",
        "\n",
        "    if j == 0:\n",
        "\n",
        "      Int_D_Rzz_fold=0\n",
        "      Int_D_cnot_fold=0\n",
        "    else:\n",
        "\n",
        "      Int_D_Rzz_fold=g(D_Rzz_fold,0,j)/j\n",
        "      Int_D_cnot_fold=g(D_cnot_fold,0,j)/j\n",
        "\n",
        "    Int_D_Rzz_fold_t.append(Int_D_Rzz_fold)\n",
        "    Int_D_cnot_fold_t.append(Int_D_cnot_fold)\n",
        "  Int_D_Rzz_fold_t=np.array(Int_D_Rzz_fold_t)\n",
        "  Int_D_cnot_fold_t=np.array(Int_D_cnot_fold_t)\n",
        "\n",
        "  Int_D_Rzz_fold_t_err=Int_D_Rzz_fold_t_err+((Int_D_Rzz_fold_t-Int_D_Rzz_fold_t_ave)**2)/Twirled_num\n",
        "  Int_D_cnot_fold_t_err=Int_D_cnot_fold_t_err+((Int_D_cnot_fold_t-Int_D_cnot_fold_t_ave)**2)/Twirled_num\n",
        "\n",
        "Int_D_Rzz_fold_t_err=np.sqrt(Int_D_Rzz_fold_t_err)\n",
        "Int_D_cnot_fold_t_err=np.sqrt(Int_D_cnot_fold_t_err)\n",
        "plt.plot(t,Int_D_cnot_t,color='b',label='Cnot_gates')\n",
        "plt.plot(t,Int_D_Rzz_t,label='Pulse gate')\n",
        "plt.errorbar(t,Int_D_Rzz_fold_t, yerr=Int_D_Rzz_fold_t_err,color='r', ecolor='b', label='with 10 Random Twirling ZNE, DD and pulse gate')\n",
        "plt.errorbar(t,Int_D_cnot_fold_t, yerr=Int_D_cnot_fold_t_err, color='m', ecolor='g', label='Two Cnot gate with Random Twirling ZNE, DD')\n",
        "plt.grid()\n",
        "plt.legend()\n",
        "plt.show()"
      ]
    },
    {
      "cell_type": "markdown",
      "metadata": {
        "id": "XU5fZstHQ1Ju"
      },
      "source": [
        "# Save data point"
      ]
    },
    {
      "cell_type": "code",
      "execution_count": null,
      "metadata": {
        "id": "E2sRcIIi3y40",
        "colab": {
          "base_uri": "https://localhost:8080/",
          "height": 241
        },
        "outputId": "06f45921-6570-487b-84cd-c35b6a29e020"
      },
      "outputs": [
        {
          "output_type": "error",
          "ename": "FileNotFoundError",
          "evalue": "ignored",
          "traceback": [
            "\u001b[0;31m---------------------------------------------------------------------------\u001b[0m",
            "\u001b[0;31mFileNotFoundError\u001b[0m                         Traceback (most recent call last)",
            "\u001b[0;32m<ipython-input-60-950fea9aa8f3>\u001b[0m in \u001b[0;36m<module>\u001b[0;34m()\u001b[0m\n\u001b[0;32m----> 1\u001b[0;31m \u001b[0mf\u001b[0m \u001b[0;34m=\u001b[0m \u001b[0mopen\u001b[0m\u001b[0;34m(\u001b[0m\u001b[0mpath_dir\u001b[0m\u001b[0;34m.\u001b[0m\u001b[0mreplace\u001b[0m\u001b[0;34m(\u001b[0m\u001b[0;34m'.'\u001b[0m\u001b[0;34m,\u001b[0m\u001b[0;34m'_Sz_cnot.'\u001b[0m\u001b[0;34m)\u001b[0m\u001b[0;34m,\u001b[0m\u001b[0;34m'w'\u001b[0m\u001b[0;34m)\u001b[0m\u001b[0;34m\u001b[0m\u001b[0;34m\u001b[0m\u001b[0m\n\u001b[0m\u001b[1;32m      2\u001b[0m \u001b[0mf\u001b[0m\u001b[0;34m.\u001b[0m\u001b[0mwrite\u001b[0m\u001b[0;34m(\u001b[0m\u001b[0;34m'The time step:'\u001b[0m\u001b[0;34m+\u001b[0m\u001b[0mstr\u001b[0m\u001b[0;34m(\u001b[0m\u001b[0mdt\u001b[0m\u001b[0;34m)\u001b[0m\u001b[0;34m+\u001b[0m\u001b[0;34m'\\n'\u001b[0m\u001b[0;34m)\u001b[0m\u001b[0;34m\u001b[0m\u001b[0;34m\u001b[0m\u001b[0m\n\u001b[1;32m      3\u001b[0m \u001b[0;34m\u001b[0m\u001b[0m\n\u001b[1;32m      4\u001b[0m \u001b[0mf\u001b[0m\u001b[0;34m.\u001b[0m\u001b[0mwrite\u001b[0m\u001b[0;34m(\u001b[0m\u001b[0;34m'Sz_cnot:\\n'\u001b[0m\u001b[0;34m)\u001b[0m\u001b[0;34m\u001b[0m\u001b[0;34m\u001b[0m\u001b[0m\n\u001b[1;32m      5\u001b[0m \u001b[0;34m\u001b[0m\u001b[0m\n",
            "\u001b[0;31mFileNotFoundError\u001b[0m: [Errno 2] No such file or directory: '/content/gdrive/MyDrive/Trotter/Quantum_data_Sz_cnot.txt'"
          ]
        }
      ],
      "source": [
        "f = open(path_dir.replace('.','_Sz_cnot.'),'w')\n",
        "f.write('The time step:'+str(dt)+'\\n')\n",
        "\n",
        "f.write('Sz_cnot:\\n')\n",
        "\n",
        "for i in range(L):\n",
        "  f.write(str(Sz__cnots[:,i]))\n",
        "  f.write('\\n')\n",
        "\n",
        "f.close()\n",
        "\n",
        "f = open(path_dir.replace('.','_Trotter_simulation_statevector.'),'w')\n",
        "f.write('The time step:'+str(dt)+'\\n')\n",
        "\n",
        "f.write('Trotter simulation w/ statevector:\\n')\n",
        "for i in range(L):\n",
        "  f.write(str(Sz_sim[:,i]))\n",
        "  f.write('\\n')\n",
        "f.close()\n",
        "\n",
        "f = open(path_dir.replace('.','_Trotter_simulation_40_steps_statevector.'),'w')\n",
        "f.write('The time step:'+str(dt)+'\\n')\n",
        "\n",
        "f.write('Trotter simulation 40 steps w/ statevector:\\n')\n",
        "\n",
        "for i in range(L):\n",
        "  f.write(str(Sz_sim40[:,i]))\n",
        "  f.write('\\n')\n",
        "f.close()\n",
        "\n",
        "f = open(path_dir.replace('.','_Two_Cnot_gate_with_ZNE.'),'w')\n",
        "f.write('The time step:'+str(dt)+'\\n')\n",
        "f.write('Two Cnot gate with ZNE:\\n')\n",
        "\n",
        "for i in range(L):\n",
        "  f.write(str(real_device_dict_cnot[i]))\n",
        "  f.write('\\n')\n",
        "f.close()\n",
        "\n",
        "f = open(path_dir.replace('.','_ED.'),'w')\n",
        "f.write('The time step:'+str(dt)+'\\n')\n",
        "\n",
        "f.write('ED:\\n')\n",
        "for i in range(L):\n",
        "  f.write(str(Zi[i,:]))\n",
        "  f.write('\\n')\n",
        "f.close()"
      ]
    },
    {
      "cell_type": "markdown",
      "metadata": {
        "id": "bFya_TOcC7pX"
      },
      "source": [
        "# Retrieve Job"
      ]
    },
    {
      "cell_type": "code",
      "execution_count": null,
      "metadata": {
        "id": "P6jz8rKRwLXZ"
      },
      "outputs": [],
      "source": [
        "for i in qubits_list:\n",
        "  print('t1:',properties.t1(i)*(1e6),'us')\n",
        "  print('t2:',properties.t2(i)*(1e6),'us')"
      ]
    },
    {
      "cell_type": "code",
      "execution_count": null,
      "metadata": {
        "id": "3-rmjs8YwMCr"
      },
      "outputs": [],
      "source": [
        "for i in q_conn:\n",
        "  print('cx error rate:',i,' ',properties.gate_error('cx',i))\n",
        "for i in qubits_list:\n",
        "  print('x error rate:',i,' ',properties.gate_error('x',i))\n",
        "for i in Rzz_err:\n",
        "  print('Two cnot error rate:',i)\n",
        "for i in Rzz_err1:\n",
        "  print('Rzz pulse error rate:',i)"
      ]
    },
    {
      "cell_type": "code",
      "execution_count": null,
      "metadata": {
        "id": "99HZm8GgGD40"
      },
      "outputs": [],
      "source": [
        ""
      ]
    },
    {
      "cell_type": "code",
      "execution_count": null,
      "metadata": {
        "id": "_jaTO8d-GLPp"
      },
      "outputs": [],
      "source": [
        "raw_rzz_folded_circuits[4].draw('mpl')"
      ]
    },
    {
      "cell_type": "code",
      "execution_count": null,
      "metadata": {
        "id": "I34zvco4IH5z"
      },
      "outputs": [],
      "source": [
        "\n",
        "2*V*2/20"
      ]
    },
    {
      "cell_type": "code",
      "execution_count": null,
      "metadata": {
        "id": "YI7dd2QMJ6I6"
      },
      "outputs": [],
      "source": [
        "dt"
      ]
    },
    {
      "cell_type": "code",
      "execution_count": null,
      "metadata": {
        "id": "punMohg0KUev"
      },
      "outputs": [],
      "source": [
        ""
      ]
    }
  ],
  "metadata": {
    "colab": {
      "collapsed_sections": [],
      "name": "Trotter_code_nairobi11.ipynb",
      "provenance": []
    },
    "kernelspec": {
      "display_name": "Python 3",
      "language": "python",
      "name": "python3"
    },
    "language_info": {
      "codemirror_mode": {
        "name": "ipython",
        "version": 3
      },
      "file_extension": ".py",
      "mimetype": "text/x-python",
      "name": "python",
      "nbconvert_exporter": "python",
      "pygments_lexer": "ipython3",
      "version": "3.9.4"
    }
  },
  "nbformat": 4,
  "nbformat_minor": 0
}